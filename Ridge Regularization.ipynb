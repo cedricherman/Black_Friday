{
 "cells": [
  {
   "cell_type": "markdown",
   "metadata": {},
   "source": [
    "# Load features and targets"
   ]
  },
  {
   "cell_type": "code",
   "execution_count": 1,
   "metadata": {
    "collapsed": true
   },
   "outputs": [],
   "source": [
    "# load features\n",
    "import pickle\n",
    "features = pickle.load( open( \"Onehotfeatures.pkl\", \"rb\" ) )\n",
    "\n",
    "# load associated targets\n",
    "from numpy import load\n",
    "y = load('target.npy')"
   ]
  },
  {
   "cell_type": "markdown",
   "metadata": {},
   "source": [
    "Choose features and prepare data for scikit-learn prototyping"
   ]
  },
  {
   "cell_type": "code",
   "execution_count": 2,
   "metadata": {
    "collapsed": true
   },
   "outputs": [],
   "source": [
    "# keep features of interest\n",
    "imp_feature = ['User_ID', 'Product_ID', 'Gender_Prod_cat123']\n",
    "# imp_feature = ['User_ID', 'Product_ID', 'Gender', 'Prod_cat123']\n",
    "# only keep corresponding features\n",
    "X_features = tuple(f[0] for f in features if f[1] in imp_feature)"
   ]
  },
  {
   "cell_type": "code",
   "execution_count": 3,
   "metadata": {},
   "outputs": [
    {
     "data": {
      "text/plain": [
       "((550071, 9996), scipy.sparse.coo.coo_matrix)"
      ]
     },
     "execution_count": 3,
     "metadata": {},
     "output_type": "execute_result"
    }
   ],
   "source": [
    "from scipy.sparse import hstack\n",
    "X = hstack( X_features )\n",
    "X.shape, type(X)"
   ]
  },
  {
   "cell_type": "markdown",
   "metadata": {},
   "source": [
    "# Ridge Regularization\n",
    "Learning curves from linear regression model (see associated notebook) shows there is not much of a gap so overfitting is minimal. So there shouldn't be a big improvement by adding regularization."
   ]
  },
  {
   "cell_type": "markdown",
   "metadata": {},
   "source": [
    "### Ridge - Grid search on regularization constant"
   ]
  },
  {
   "cell_type": "markdown",
   "metadata": {},
   "source": [
    "Create model [Sklearn Ridge](http://scikit-learn.org/stable/modules/generated/sklearn.linear_model.Ridge.html) "
   ]
  },
  {
   "cell_type": "code",
   "execution_count": 4,
   "metadata": {
    "collapsed": true
   },
   "outputs": [],
   "source": [
    "from sklearn.linear_model import Ridge\n",
    "# closed-form ('svd') l2 regularization ('Ridge')\n",
    "# Because X is sparse and fit_intercept is true, it must use Stochastic Gradient Descent ('sag', see doc)\n",
    "# max_iter=None and tol=0.001 can help speeding up search but may not find optimal solution\n",
    "model_ridge = Ridge(random_state=29, solver='sag')"
   ]
  },
  {
   "cell_type": "markdown",
   "metadata": {},
   "source": [
    "Create parameter grid"
   ]
  },
  {
   "cell_type": "code",
   "execution_count": 5,
   "metadata": {},
   "outputs": [
    {
     "data": {
      "text/plain": [
       "[{'alpha': [4, 5, 6]}]"
      ]
     },
     "execution_count": 5,
     "metadata": {},
     "output_type": "execute_result"
    }
   ],
   "source": [
    "import numpy as np\n",
    "# 0.01, 0.1, 1, 10\n",
    "al = np.array([ 10**x for x in range(0,2)])\n",
    "# add multiple of three\n",
    "al = np.concatenate([al, 3*al])\n",
    "# Started with al then narrowed it down to 5.\n",
    "param_grid = [{'alpha': [4, 5, 6] }]\n",
    "param_grid"
   ]
  },
  {
   "cell_type": "markdown",
   "metadata": {},
   "source": [
    "Run grid search"
   ]
  },
  {
   "cell_type": "code",
   "execution_count": 6,
   "metadata": {},
   "outputs": [
    {
     "name": "stdout",
     "output_type": "stream",
     "text": [
      "Fitting 5 folds for each of 3 candidates, totalling 15 fits\n"
     ]
    },
    {
     "name": "stderr",
     "output_type": "stream",
     "text": [
      "[Parallel(n_jobs=-1)]: Done  15 out of  15 | elapsed:   19.0s finished\n"
     ]
    },
    {
     "name": "stdout",
     "output_type": "stream",
     "text": [
      "Ridge(alpha=5, copy_X=True, fit_intercept=True, max_iter=None,\n",
      "   normalize=False, random_state=29, solver='sag', tol=0.001)\n"
     ]
    }
   ],
   "source": [
    "# Grid search on alpha\n",
    "from sklearn.model_selection import GridSearchCV, ShuffleSplit\n",
    "# n_splits is the number of times you split data after shuffling\n",
    "cv = ShuffleSplit(n_splits=5, test_size=1/5, random_state=4)\n",
    "\n",
    "# cv could be a fixed number of partitions but there would be no shuffling in that case\n",
    "# it will just rotate on partitions (k-1) parts and 1 part for cross-val\n",
    "ridge_grid = GridSearchCV(model_ridge, param_grid, cv=cv, scoring='neg_mean_squared_error', n_jobs = -1, verbose = 1)\n",
    "\n",
    "# run grid search\n",
    "ridge_grid.fit(X,y)\n",
    "# alpha = 3 is optimal with default tol and max_iter\n",
    "\n",
    "# Show winning parameters\n",
    "ridge_grid.best_estimator_\n",
    "# tree_reg_grid.best_params_\n",
    "# ridge_grid.cv_results_"
   ]
  },
  {
   "cell_type": "markdown",
   "metadata": {},
   "source": [
    "Cross-validation best results"
   ]
  },
  {
   "cell_type": "code",
   "execution_count": 7,
   "metadata": {},
   "outputs": [
    {
     "name": "stdout",
     "output_type": "stream",
     "text": [
      "MSE, best param, mean cross-val = 6251711.1638\n",
      "RMSE, best param, mean cross-val = 2500.3422\n"
     ]
    }
   ],
   "source": [
    "# best score is the lowest MSE (averaged over Kfold cross-validation for each parameter value)\n",
    "print( 'MSE, best param, mean cross-val = {:.4f}'.format(-ridge_grid.best_score_) )\n",
    "print( 'RMSE, best param, mean cross-val = {:.4f}'.format(np.sqrt(-ridge_grid.best_score_)) )"
   ]
  },
  {
   "cell_type": "markdown",
   "metadata": {},
   "source": [
    "Entire training set results"
   ]
  },
  {
   "cell_type": "code",
   "execution_count": 8,
   "metadata": {
    "scrolled": true
   },
   "outputs": [
    {
     "name": "stdout",
     "output_type": "stream",
     "text": [
      "MSE (whole training set) = 6031510.6500\n",
      "RMSE (whole training set) = 2455.9134\n"
     ]
    }
   ],
   "source": [
    "# get predictions from ridge_grid, grid search refit ridge_grid on entire training set using best params\n",
    "y_pred_grid = ridge_grid.predict(X)\n",
    "# plot metrics on training set and compare to cross-validation metrics\n",
    "from sklearn.metrics import mean_squared_error\n",
    "print('MSE (whole training set) = {:.4f}'.format(mean_squared_error(y, y_pred_grid)))\n",
    "print('RMSE (whole training set) = {:.4f}'.format(np.sqrt(mean_squared_error(y, y_pred_grid))))"
   ]
  },
  {
   "cell_type": "markdown",
   "metadata": {},
   "source": [
    "### Ridge - Single run"
   ]
  },
  {
   "cell_type": "markdown",
   "metadata": {},
   "source": [
    "Cross-validation"
   ]
  },
  {
   "cell_type": "code",
   "execution_count": 9,
   "metadata": {},
   "outputs": [
    {
     "name": "stdout",
     "output_type": "stream",
     "text": [
      "MSE (mean cross-validation) = 6251711.1638\n",
      "RMSE (mean cross-validation) = 2500.3422\n"
     ]
    }
   ],
   "source": [
    "# create ridge model (or use the one above)\n",
    "from sklearn.linear_model import Ridge\n",
    "model_ridge = Ridge(alpha=5, random_state=29, solver='sag')\n",
    "\n",
    "# run cross-validation to get expected error\n",
    "from sklearn.model_selection import cross_validate, ShuffleSplit\n",
    "# n_splits is the number of times you split data after shuffling\n",
    "cv = ShuffleSplit(n_splits=5, test_size=1/5, random_state=4)\n",
    "\n",
    "# cv could be a fixed number of partitions but there would be no shuffling in that case\n",
    "# it will just rotate on partitions (k-1) parts and 1 part for cross-val\n",
    "cv_results = cross_validate(model_ridge, X, y, cv=cv, scoring='neg_mean_squared_error', n_jobs=-1)\n",
    "\n",
    "# print results\n",
    "print('MSE (mean cross-validation) = {:.4f}'.format(-np.mean(cv_results['test_score'])))\n",
    "print('RMSE (mean cross-validation) = {:.4f}'.format(np.sqrt(-np.mean(cv_results['test_score']))))"
   ]
  },
  {
   "cell_type": "markdown",
   "metadata": {},
   "source": [
    "Run again on entire training set"
   ]
  },
  {
   "cell_type": "code",
   "execution_count": 10,
   "metadata": {},
   "outputs": [
    {
     "name": "stdout",
     "output_type": "stream",
     "text": [
      "Training done\n",
      "\n",
      "MSE (whole training set) = 6031510.6500\n",
      "RMSE (whole training set) = 2455.9134\n"
     ]
    }
   ],
   "source": [
    "# fit on entire dataset\n",
    "model_ridge.fit(X,y)\n",
    "\n",
    "# metrics on entire dataset, must be higher that Xval scores\n",
    "y_pred = model_ridge.predict(X)\n",
    "from sklearn.metrics import mean_squared_error\n",
    "print('\\nMSE (whole training set) = {:.4f}'.format(mean_squared_error(y, y_pred)))\n",
    "print('RMSE (whole training set) = {:.4f}'.format(np.sqrt(mean_squared_error(y, y_pred))))\n",
    "# Learning curves on linear model yielded: 2445 train < RSME < 2520 test"
   ]
  },
  {
   "cell_type": "markdown",
   "metadata": {},
   "source": [
    "# Run model on test set"
   ]
  },
  {
   "cell_type": "markdown",
   "metadata": {},
   "source": [
    "Read test set in memory"
   ]
  },
  {
   "cell_type": "code",
   "execution_count": 11,
   "metadata": {
    "collapsed": true
   },
   "outputs": [],
   "source": [
    "import pandas as pd\n",
    "filename = './test_HujdGe7/test.csv'\n",
    "df_test = pd.read_csv(filename)"
   ]
  },
  {
   "cell_type": "markdown",
   "metadata": {},
   "source": [
    "Recover encoders from file and derive one-hot encoded features"
   ]
  },
  {
   "cell_type": "code",
   "execution_count": 12,
   "metadata": {
    "collapsed": true
   },
   "outputs": [],
   "source": [
    "# Load encoders\n",
    "import pickle\n",
    "encoders = pickle.load( open( \"Onehotencoders.pkl\", \"rb\" ) )\n",
    "catcoders = pickle.load( open( \"Category_encoders.pkl\", \"rb\" ) )"
   ]
  },
  {
   "cell_type": "code",
   "execution_count": 13,
   "metadata": {
    "collapsed": true
   },
   "outputs": [],
   "source": [
    "import importlib\n",
    "from utils import fextract as ft\n",
    "# reload is necessary if one makes changes in fextract. Indeed modules are loaded once only, this forces a reload.\n",
    "importlib.reload(ft)\n",
    "\n",
    "# get one-hot encoded features and their names\n",
    "features_test = ft.prepare_Data(df_test, (catcoders, encoders))"
   ]
  },
  {
   "cell_type": "markdown",
   "metadata": {},
   "source": [
    "Select necessary features (must match your feature model obviously)"
   ]
  },
  {
   "cell_type": "code",
   "execution_count": 14,
   "metadata": {},
   "outputs": [
    {
     "data": {
      "text/plain": [
       "(233599, 9996)"
      ]
     },
     "execution_count": 14,
     "metadata": {},
     "output_type": "execute_result"
    }
   ],
   "source": [
    "X_features_test = tuple(f[0] for f in features_test if f[1] in imp_feature)\n",
    "X_test = hstack( X_features_test )\n",
    "# check shape\n",
    "X_test.shape"
   ]
  },
  {
   "cell_type": "markdown",
   "metadata": {},
   "source": [
    "Make predictions and save them to file"
   ]
  },
  {
   "cell_type": "code",
   "execution_count": 15,
   "metadata": {
    "collapsed": true
   },
   "outputs": [],
   "source": [
    "y_pred_test = model_ridge.predict(X_test)"
   ]
  },
  {
   "cell_type": "code",
   "execution_count": 16,
   "metadata": {
    "collapsed": true
   },
   "outputs": [],
   "source": [
    "# format result save to csv for submission\n",
    "df_results = df_test.loc[:,('User_ID','Product_ID')]\n",
    "df_results['Purchase'] = y_pred_test.reshape(-1,1)\n",
    "df_results.to_csv('Submission_Ridge.csv', index=False)"
   ]
  }
 ],
 "metadata": {
  "kernelspec": {
   "display_name": "Python 3",
   "language": "python",
   "name": "python3"
  },
  "language_info": {
   "codemirror_mode": {
    "name": "ipython",
    "version": 3
   },
   "file_extension": ".py",
   "mimetype": "text/x-python",
   "name": "python",
   "nbconvert_exporter": "python",
   "pygments_lexer": "ipython3",
   "version": "3.5.4"
  }
 },
 "nbformat": 4,
 "nbformat_minor": 2
}
