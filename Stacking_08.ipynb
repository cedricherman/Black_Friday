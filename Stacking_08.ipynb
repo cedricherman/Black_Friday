{
 "cells": [
  {
   "cell_type": "markdown",
   "metadata": {},
   "source": [
    "# Load features and targets"
   ]
  },
  {
   "cell_type": "code",
   "execution_count": 1,
   "metadata": {
    "collapsed": true
   },
   "outputs": [],
   "source": [
    "# load features\n",
    "import pickle\n",
    "features = pickle.load( open( \"Onehotfeatures.pkl\", \"rb\" ) )\n",
    "\n",
    "# load associated targets\n",
    "from numpy import load\n",
    "y = load('target.npy')"
   ]
  },
  {
   "cell_type": "markdown",
   "metadata": {},
   "source": [
    "Choose features and prepare data for scikit-learn prototyping"
   ]
  },
  {
   "cell_type": "code",
   "execution_count": 2,
   "metadata": {
    "collapsed": true
   },
   "outputs": [],
   "source": [
    "# keep features of interest\n",
    "imp_feature = ['User_ID', 'Product_ID', 'Gender_Prod_cat123']\n",
    "# imp_feature = ['User_ID', 'Product_ID', 'Gender', 'Prod_cat123']\n",
    "# only keep corresponding features\n",
    "X_features = tuple(features.get(f, 'Feature not present') for f in imp_feature)"
   ]
  },
  {
   "cell_type": "code",
   "execution_count": 3,
   "metadata": {},
   "outputs": [
    {
     "data": {
      "text/plain": [
       "((550071, 9996), scipy.sparse.coo.coo_matrix)"
      ]
     },
     "execution_count": 3,
     "metadata": {},
     "output_type": "execute_result"
    }
   ],
   "source": [
    "from scipy.sparse import hstack\n",
    "X = hstack( X_features )\n",
    "X.shape, type(X)"
   ]
  },
  {
   "cell_type": "markdown",
   "metadata": {},
   "source": [
    "# Stacking Ridge and GBRT\n",
    "\n",
    "Here we will use Ridge and GBRT to predict purchase. From those two outputs, we will make a blender to give us a single purchase prediction. Using Ridge and GBRT is a good choice because there are making different type of mistakes. Stacking both will yield better performance."
   ]
  },
  {
   "cell_type": "markdown",
   "metadata": {},
   "source": [
    "Split training set in two parts (One for training Ridge and GBRT and the other to make prediction that will serve as 'clean' features for our blender)"
   ]
  },
  {
   "cell_type": "code",
   "execution_count": 4,
   "metadata": {
    "collapsed": true
   },
   "outputs": [],
   "source": [
    "# split training set in two\n",
    "from sklearn.model_selection import train_test_split\n",
    "X_1, X_2, y_1, y_2 = train_test_split(X, y, test_size=0.5, random_state=4)"
   ]
  },
  {
   "cell_type": "markdown",
   "metadata": {},
   "source": [
    "Load Ridge and GRBT models"
   ]
  },
  {
   "cell_type": "code",
   "execution_count": 5,
   "metadata": {
    "collapsed": true
   },
   "outputs": [],
   "source": [
    "from sklearn.externals import joblib\n",
    "gbrt_stack = joblib.load('./models/GBRT_Model.pkl')\n",
    "ridge_stack = joblib.load('./models/Ridge_Model.pkl')"
   ]
  },
  {
   "cell_type": "markdown",
   "metadata": {},
   "source": [
    "Re-train Ridge and GBRT on training data 1st half"
   ]
  },
  {
   "cell_type": "code",
   "execution_count": 6,
   "metadata": {},
   "outputs": [
    {
     "data": {
      "text/plain": [
       "Ridge(alpha=5, copy_X=True, fit_intercept=True, max_iter=None,\n",
       "   normalize=False, random_state=29, solver='sag', tol=0.001)"
      ]
     },
     "execution_count": 6,
     "metadata": {},
     "output_type": "execute_result"
    }
   ],
   "source": [
    "ridge_stack.fit(X_1, y_1)"
   ]
  },
  {
   "cell_type": "code",
   "execution_count": 8,
   "metadata": {},
   "outputs": [
    {
     "name": "stdout",
     "output_type": "stream",
     "text": [
      "      Iter       Train Loss      OOB Improve   Remaining Time \n"
     ]
    },
    {
     "data": {
      "text/plain": [
       "GradientBoostingRegressor(alpha=0.9, criterion='friedman_mse', init=None,\n",
       "             learning_rate=0.01, loss='ls', max_depth=925,\n",
       "             max_features=None, max_leaf_nodes=None,\n",
       "             min_impurity_decrease=0.0, min_impurity_split=None,\n",
       "             min_samples_leaf=5, min_samples_split=2,\n",
       "             min_weight_fraction_leaf=0.0, n_estimators=499,\n",
       "             presort='auto', random_state=29, subsample=0.8, verbose=1,\n",
       "             warm_start=True)"
      ]
     },
     "execution_count": 8,
     "metadata": {},
     "output_type": "execute_result"
    }
   ],
   "source": [
    "# make sure it starts over (GBRT optimization had warm_start True)\n",
    "gbrt_stack.warm_start = False\n",
    "gbrt_stack.fit(X_1, y_1)"
   ]
  },
  {
   "cell_type": "markdown",
   "metadata": {},
   "source": [
    "Save new Ridge and GBRT models"
   ]
  },
  {
   "cell_type": "code",
   "execution_count": 10,
   "metadata": {},
   "outputs": [
    {
     "data": {
      "text/plain": [
       "['./models/Ridge_Stack_Model.pkl']"
      ]
     },
     "execution_count": 10,
     "metadata": {},
     "output_type": "execute_result"
    }
   ],
   "source": [
    "joblib.dump(gbrt_stack, './models/GBRT_Stack_Model.pkl')\n",
    "joblib.dump(ridge_stack, './models/Ridge_Stack_Model.pkl')"
   ]
  },
  {
   "cell_type": "markdown",
   "metadata": {},
   "source": [
    "Make predictions on 2nd half"
   ]
  },
  {
   "cell_type": "code",
   "execution_count": 11,
   "metadata": {
    "collapsed": true
   },
   "outputs": [],
   "source": [
    "# Ridge and GBRT predictions on 2nd half\n",
    "gbrt_pred = gbrt_stack.predict(X_2)\n",
    "ridge_pred = ridge_stack.predict(X_2)\n",
    "# stack predictions together\n",
    "import numpy as np\n",
    "X_blender = np.stack((gbrt_pred, ridge_pred), axis=1)"
   ]
  },
  {
   "cell_type": "markdown",
   "metadata": {},
   "source": [
    "Parameter grid for grid search"
   ]
  },
  {
   "cell_type": "code",
   "execution_count": 12,
   "metadata": {},
   "outputs": [
    {
     "data": {
      "text/plain": [
       "[{'alpha': array([ 0.01,  0.1 ,  1.  ,  0.03,  0.3 ,  3.  ])}]"
      ]
     },
     "execution_count": 12,
     "metadata": {},
     "output_type": "execute_result"
    }
   ],
   "source": [
    "# values for parameter grid\n",
    "alpha_arr = np.array([ 10**x for x in range(-2,1)])\n",
    "alpha_arr = np.concatenate([alpha_arr, 3*alpha_arr])\n",
    "# parameter grid\n",
    "param_grid_model_blr = [ {'alpha': alpha_arr} ]\n",
    "param_grid_model_blr"
   ]
  },
  {
   "cell_type": "markdown",
   "metadata": {},
   "source": [
    "Create Blender (Ridge) and do a grid search"
   ]
  },
  {
   "cell_type": "code",
   "execution_count": 13,
   "metadata": {},
   "outputs": [
    {
     "name": "stdout",
     "output_type": "stream",
     "text": [
      "Fitting 5 folds for each of 6 candidates, totalling 30 fits\n"
     ]
    },
    {
     "name": "stderr",
     "output_type": "stream",
     "text": [
      "[Parallel(n_jobs=-1)]: Done  30 out of  30 | elapsed:    6.1s finished\n"
     ]
    },
    {
     "data": {
      "text/plain": [
       "GridSearchCV(cv=ShuffleSplit(n_splits=5, random_state=4, test_size=0.2, train_size=None),\n",
       "       error_score='raise',\n",
       "       estimator=Ridge(alpha=1.0, copy_X=True, fit_intercept=True, max_iter=None,\n",
       "   normalize=False, random_state=29, solver='svd', tol=0.001),\n",
       "       fit_params=None, iid=True, n_jobs=-1,\n",
       "       param_grid=[{'alpha': array([ 0.01,  0.1 ,  1.  ,  0.03,  0.3 ,  3.  ])}],\n",
       "       pre_dispatch='2*n_jobs', refit=True, return_train_score=True,\n",
       "       scoring='neg_mean_squared_error', verbose=1)"
      ]
     },
     "execution_count": 13,
     "metadata": {},
     "output_type": "execute_result"
    }
   ],
   "source": [
    "# train blender\n",
    "from sklearn.linear_model import Ridge\n",
    "model_blr = Ridge( random_state=29, solver='svd')\n",
    "\n",
    "# polynomial features\n",
    "# NOTE: no need to do feature scaling since ridge is a closed-form\n",
    "from sklearn.preprocessing import PolynomialFeatures\n",
    "polystack = PolynomialFeatures(degree=2, interaction_only=False, include_bias=False)\n",
    "X_blender_poly = polystack.fit_transform(X_blender)\n",
    "\n",
    "# Grid search on max_depth, min_samples_leaf\n",
    "from sklearn.model_selection import GridSearchCV, ShuffleSplit\n",
    "# n_splits is the number of times you split data after shuffling\n",
    "cv = ShuffleSplit(n_splits=5, test_size=1/5, random_state=4)\n",
    "\n",
    "# cv could be a fixed number of partitions but there would be no shuffling in that case\n",
    "# it will just rotate on partitions (k-1) parts and 1 part for cross-val\n",
    "model_blr_grid = GridSearchCV(model_blr, param_grid_model_blr, cv = cv,\\\n",
    "                              scoring = 'neg_mean_squared_error', n_jobs = -1, verbose = 1)\n",
    "\n",
    "# run grid search\n",
    "model_blr_grid.fit( X_blender_poly , y_2 )"
   ]
  },
  {
   "cell_type": "markdown",
   "metadata": {},
   "source": [
    "Performance result on cross-validation"
   ]
  },
  {
   "cell_type": "code",
   "execution_count": 14,
   "metadata": {},
   "outputs": [
    {
     "name": "stdout",
     "output_type": "stream",
     "text": [
      "MSE, best param, mean cross-val = 5919410.2023\n",
      "RMSE, best param, mean cross-val = 2432.9838\n",
      "Ridge(alpha=0.01, copy_X=True, fit_intercept=True, max_iter=None,\n",
      "   normalize=False, random_state=29, solver='svd', tol=0.001)\n"
     ]
    }
   ],
   "source": [
    "# best of mean test score\n",
    "print( 'MSE, best param, mean cross-val = {:.4f}'.format(-model_blr_grid.best_score_) )\n",
    "print( 'RMSE, best param, mean cross-val = {:.4f}'.format(np.sqrt(-model_blr_grid.best_score_)) )\n",
    "print(model_blr_grid.best_estimator_)"
   ]
  },
  {
   "cell_type": "markdown",
   "metadata": {},
   "source": [
    "Performance on entire training set"
   ]
  },
  {
   "cell_type": "code",
   "execution_count": 17,
   "metadata": {},
   "outputs": [
    {
     "name": "stdout",
     "output_type": "stream",
     "text": [
      "\n",
      "MSE (whole training set) = 5927599.6208\n",
      "RMSE (whole training set) = 2434.6662\n"
     ]
    }
   ],
   "source": [
    "# metrics on entire dataset, must be higher that Xval scores\n",
    "y_pred = model_blr_grid.predict(X_blender_poly)\n",
    "from sklearn.metrics import mean_squared_error\n",
    "print('\\nMSE (whole training set) = {:.4f}'.format(mean_squared_error(y_2, y_pred)))\n",
    "print('RMSE (whole training set) = {:.4f}'.format(np.sqrt(mean_squared_error(y_2, y_pred))))"
   ]
  },
  {
   "cell_type": "markdown",
   "metadata": {},
   "source": [
    "### Are mistakes made by GBRT and Ridge really different?\n",
    "Spolier alert: yes!"
   ]
  },
  {
   "cell_type": "code",
   "execution_count": 18,
   "metadata": {},
   "outputs": [
    {
     "data": {
      "application/javascript": [
       "/* Put everything inside the global mpl namespace */\n",
       "window.mpl = {};\n",
       "\n",
       "\n",
       "mpl.get_websocket_type = function() {\n",
       "    if (typeof(WebSocket) !== 'undefined') {\n",
       "        return WebSocket;\n",
       "    } else if (typeof(MozWebSocket) !== 'undefined') {\n",
       "        return MozWebSocket;\n",
       "    } else {\n",
       "        alert('Your browser does not have WebSocket support.' +\n",
       "              'Please try Chrome, Safari or Firefox ≥ 6. ' +\n",
       "              'Firefox 4 and 5 are also supported but you ' +\n",
       "              'have to enable WebSockets in about:config.');\n",
       "    };\n",
       "}\n",
       "\n",
       "mpl.figure = function(figure_id, websocket, ondownload, parent_element) {\n",
       "    this.id = figure_id;\n",
       "\n",
       "    this.ws = websocket;\n",
       "\n",
       "    this.supports_binary = (this.ws.binaryType != undefined);\n",
       "\n",
       "    if (!this.supports_binary) {\n",
       "        var warnings = document.getElementById(\"mpl-warnings\");\n",
       "        if (warnings) {\n",
       "            warnings.style.display = 'block';\n",
       "            warnings.textContent = (\n",
       "                \"This browser does not support binary websocket messages. \" +\n",
       "                    \"Performance may be slow.\");\n",
       "        }\n",
       "    }\n",
       "\n",
       "    this.imageObj = new Image();\n",
       "\n",
       "    this.context = undefined;\n",
       "    this.message = undefined;\n",
       "    this.canvas = undefined;\n",
       "    this.rubberband_canvas = undefined;\n",
       "    this.rubberband_context = undefined;\n",
       "    this.format_dropdown = undefined;\n",
       "\n",
       "    this.image_mode = 'full';\n",
       "\n",
       "    this.root = $('<div/>');\n",
       "    this._root_extra_style(this.root)\n",
       "    this.root.attr('style', 'display: inline-block');\n",
       "\n",
       "    $(parent_element).append(this.root);\n",
       "\n",
       "    this._init_header(this);\n",
       "    this._init_canvas(this);\n",
       "    this._init_toolbar(this);\n",
       "\n",
       "    var fig = this;\n",
       "\n",
       "    this.waiting = false;\n",
       "\n",
       "    this.ws.onopen =  function () {\n",
       "            fig.send_message(\"supports_binary\", {value: fig.supports_binary});\n",
       "            fig.send_message(\"send_image_mode\", {});\n",
       "            if (mpl.ratio != 1) {\n",
       "                fig.send_message(\"set_dpi_ratio\", {'dpi_ratio': mpl.ratio});\n",
       "            }\n",
       "            fig.send_message(\"refresh\", {});\n",
       "        }\n",
       "\n",
       "    this.imageObj.onload = function() {\n",
       "            if (fig.image_mode == 'full') {\n",
       "                // Full images could contain transparency (where diff images\n",
       "                // almost always do), so we need to clear the canvas so that\n",
       "                // there is no ghosting.\n",
       "                fig.context.clearRect(0, 0, fig.canvas.width, fig.canvas.height);\n",
       "            }\n",
       "            fig.context.drawImage(fig.imageObj, 0, 0);\n",
       "        };\n",
       "\n",
       "    this.imageObj.onunload = function() {\n",
       "        fig.ws.close();\n",
       "    }\n",
       "\n",
       "    this.ws.onmessage = this._make_on_message_function(this);\n",
       "\n",
       "    this.ondownload = ondownload;\n",
       "}\n",
       "\n",
       "mpl.figure.prototype._init_header = function() {\n",
       "    var titlebar = $(\n",
       "        '<div class=\"ui-dialog-titlebar ui-widget-header ui-corner-all ' +\n",
       "        'ui-helper-clearfix\"/>');\n",
       "    var titletext = $(\n",
       "        '<div class=\"ui-dialog-title\" style=\"width: 100%; ' +\n",
       "        'text-align: center; padding: 3px;\"/>');\n",
       "    titlebar.append(titletext)\n",
       "    this.root.append(titlebar);\n",
       "    this.header = titletext[0];\n",
       "}\n",
       "\n",
       "\n",
       "\n",
       "mpl.figure.prototype._canvas_extra_style = function(canvas_div) {\n",
       "\n",
       "}\n",
       "\n",
       "\n",
       "mpl.figure.prototype._root_extra_style = function(canvas_div) {\n",
       "\n",
       "}\n",
       "\n",
       "mpl.figure.prototype._init_canvas = function() {\n",
       "    var fig = this;\n",
       "\n",
       "    var canvas_div = $('<div/>');\n",
       "\n",
       "    canvas_div.attr('style', 'position: relative; clear: both; outline: 0');\n",
       "\n",
       "    function canvas_keyboard_event(event) {\n",
       "        return fig.key_event(event, event['data']);\n",
       "    }\n",
       "\n",
       "    canvas_div.keydown('key_press', canvas_keyboard_event);\n",
       "    canvas_div.keyup('key_release', canvas_keyboard_event);\n",
       "    this.canvas_div = canvas_div\n",
       "    this._canvas_extra_style(canvas_div)\n",
       "    this.root.append(canvas_div);\n",
       "\n",
       "    var canvas = $('<canvas/>');\n",
       "    canvas.addClass('mpl-canvas');\n",
       "    canvas.attr('style', \"left: 0; top: 0; z-index: 0; outline: 0\")\n",
       "\n",
       "    this.canvas = canvas[0];\n",
       "    this.context = canvas[0].getContext(\"2d\");\n",
       "\n",
       "    var backingStore = this.context.backingStorePixelRatio ||\n",
       "\tthis.context.webkitBackingStorePixelRatio ||\n",
       "\tthis.context.mozBackingStorePixelRatio ||\n",
       "\tthis.context.msBackingStorePixelRatio ||\n",
       "\tthis.context.oBackingStorePixelRatio ||\n",
       "\tthis.context.backingStorePixelRatio || 1;\n",
       "\n",
       "    mpl.ratio = (window.devicePixelRatio || 1) / backingStore;\n",
       "\n",
       "    var rubberband = $('<canvas/>');\n",
       "    rubberband.attr('style', \"position: absolute; left: 0; top: 0; z-index: 1;\")\n",
       "\n",
       "    var pass_mouse_events = true;\n",
       "\n",
       "    canvas_div.resizable({\n",
       "        start: function(event, ui) {\n",
       "            pass_mouse_events = false;\n",
       "        },\n",
       "        resize: function(event, ui) {\n",
       "            fig.request_resize(ui.size.width, ui.size.height);\n",
       "        },\n",
       "        stop: function(event, ui) {\n",
       "            pass_mouse_events = true;\n",
       "            fig.request_resize(ui.size.width, ui.size.height);\n",
       "        },\n",
       "    });\n",
       "\n",
       "    function mouse_event_fn(event) {\n",
       "        if (pass_mouse_events)\n",
       "            return fig.mouse_event(event, event['data']);\n",
       "    }\n",
       "\n",
       "    rubberband.mousedown('button_press', mouse_event_fn);\n",
       "    rubberband.mouseup('button_release', mouse_event_fn);\n",
       "    // Throttle sequential mouse events to 1 every 20ms.\n",
       "    rubberband.mousemove('motion_notify', mouse_event_fn);\n",
       "\n",
       "    rubberband.mouseenter('figure_enter', mouse_event_fn);\n",
       "    rubberband.mouseleave('figure_leave', mouse_event_fn);\n",
       "\n",
       "    canvas_div.on(\"wheel\", function (event) {\n",
       "        event = event.originalEvent;\n",
       "        event['data'] = 'scroll'\n",
       "        if (event.deltaY < 0) {\n",
       "            event.step = 1;\n",
       "        } else {\n",
       "            event.step = -1;\n",
       "        }\n",
       "        mouse_event_fn(event);\n",
       "    });\n",
       "\n",
       "    canvas_div.append(canvas);\n",
       "    canvas_div.append(rubberband);\n",
       "\n",
       "    this.rubberband = rubberband;\n",
       "    this.rubberband_canvas = rubberband[0];\n",
       "    this.rubberband_context = rubberband[0].getContext(\"2d\");\n",
       "    this.rubberband_context.strokeStyle = \"#000000\";\n",
       "\n",
       "    this._resize_canvas = function(width, height) {\n",
       "        // Keep the size of the canvas, canvas container, and rubber band\n",
       "        // canvas in synch.\n",
       "        canvas_div.css('width', width)\n",
       "        canvas_div.css('height', height)\n",
       "\n",
       "        canvas.attr('width', width * mpl.ratio);\n",
       "        canvas.attr('height', height * mpl.ratio);\n",
       "        canvas.attr('style', 'width: ' + width + 'px; height: ' + height + 'px;');\n",
       "\n",
       "        rubberband.attr('width', width);\n",
       "        rubberband.attr('height', height);\n",
       "    }\n",
       "\n",
       "    // Set the figure to an initial 600x600px, this will subsequently be updated\n",
       "    // upon first draw.\n",
       "    this._resize_canvas(600, 600);\n",
       "\n",
       "    // Disable right mouse context menu.\n",
       "    $(this.rubberband_canvas).bind(\"contextmenu\",function(e){\n",
       "        return false;\n",
       "    });\n",
       "\n",
       "    function set_focus () {\n",
       "        canvas.focus();\n",
       "        canvas_div.focus();\n",
       "    }\n",
       "\n",
       "    window.setTimeout(set_focus, 100);\n",
       "}\n",
       "\n",
       "mpl.figure.prototype._init_toolbar = function() {\n",
       "    var fig = this;\n",
       "\n",
       "    var nav_element = $('<div/>')\n",
       "    nav_element.attr('style', 'width: 100%');\n",
       "    this.root.append(nav_element);\n",
       "\n",
       "    // Define a callback function for later on.\n",
       "    function toolbar_event(event) {\n",
       "        return fig.toolbar_button_onclick(event['data']);\n",
       "    }\n",
       "    function toolbar_mouse_event(event) {\n",
       "        return fig.toolbar_button_onmouseover(event['data']);\n",
       "    }\n",
       "\n",
       "    for(var toolbar_ind in mpl.toolbar_items) {\n",
       "        var name = mpl.toolbar_items[toolbar_ind][0];\n",
       "        var tooltip = mpl.toolbar_items[toolbar_ind][1];\n",
       "        var image = mpl.toolbar_items[toolbar_ind][2];\n",
       "        var method_name = mpl.toolbar_items[toolbar_ind][3];\n",
       "\n",
       "        if (!name) {\n",
       "            // put a spacer in here.\n",
       "            continue;\n",
       "        }\n",
       "        var button = $('<button/>');\n",
       "        button.addClass('ui-button ui-widget ui-state-default ui-corner-all ' +\n",
       "                        'ui-button-icon-only');\n",
       "        button.attr('role', 'button');\n",
       "        button.attr('aria-disabled', 'false');\n",
       "        button.click(method_name, toolbar_event);\n",
       "        button.mouseover(tooltip, toolbar_mouse_event);\n",
       "\n",
       "        var icon_img = $('<span/>');\n",
       "        icon_img.addClass('ui-button-icon-primary ui-icon');\n",
       "        icon_img.addClass(image);\n",
       "        icon_img.addClass('ui-corner-all');\n",
       "\n",
       "        var tooltip_span = $('<span/>');\n",
       "        tooltip_span.addClass('ui-button-text');\n",
       "        tooltip_span.html(tooltip);\n",
       "\n",
       "        button.append(icon_img);\n",
       "        button.append(tooltip_span);\n",
       "\n",
       "        nav_element.append(button);\n",
       "    }\n",
       "\n",
       "    var fmt_picker_span = $('<span/>');\n",
       "\n",
       "    var fmt_picker = $('<select/>');\n",
       "    fmt_picker.addClass('mpl-toolbar-option ui-widget ui-widget-content');\n",
       "    fmt_picker_span.append(fmt_picker);\n",
       "    nav_element.append(fmt_picker_span);\n",
       "    this.format_dropdown = fmt_picker[0];\n",
       "\n",
       "    for (var ind in mpl.extensions) {\n",
       "        var fmt = mpl.extensions[ind];\n",
       "        var option = $(\n",
       "            '<option/>', {selected: fmt === mpl.default_extension}).html(fmt);\n",
       "        fmt_picker.append(option)\n",
       "    }\n",
       "\n",
       "    // Add hover states to the ui-buttons\n",
       "    $( \".ui-button\" ).hover(\n",
       "        function() { $(this).addClass(\"ui-state-hover\");},\n",
       "        function() { $(this).removeClass(\"ui-state-hover\");}\n",
       "    );\n",
       "\n",
       "    var status_bar = $('<span class=\"mpl-message\"/>');\n",
       "    nav_element.append(status_bar);\n",
       "    this.message = status_bar[0];\n",
       "}\n",
       "\n",
       "mpl.figure.prototype.request_resize = function(x_pixels, y_pixels) {\n",
       "    // Request matplotlib to resize the figure. Matplotlib will then trigger a resize in the client,\n",
       "    // which will in turn request a refresh of the image.\n",
       "    this.send_message('resize', {'width': x_pixels, 'height': y_pixels});\n",
       "}\n",
       "\n",
       "mpl.figure.prototype.send_message = function(type, properties) {\n",
       "    properties['type'] = type;\n",
       "    properties['figure_id'] = this.id;\n",
       "    this.ws.send(JSON.stringify(properties));\n",
       "}\n",
       "\n",
       "mpl.figure.prototype.send_draw_message = function() {\n",
       "    if (!this.waiting) {\n",
       "        this.waiting = true;\n",
       "        this.ws.send(JSON.stringify({type: \"draw\", figure_id: this.id}));\n",
       "    }\n",
       "}\n",
       "\n",
       "\n",
       "mpl.figure.prototype.handle_save = function(fig, msg) {\n",
       "    var format_dropdown = fig.format_dropdown;\n",
       "    var format = format_dropdown.options[format_dropdown.selectedIndex].value;\n",
       "    fig.ondownload(fig, format);\n",
       "}\n",
       "\n",
       "\n",
       "mpl.figure.prototype.handle_resize = function(fig, msg) {\n",
       "    var size = msg['size'];\n",
       "    if (size[0] != fig.canvas.width || size[1] != fig.canvas.height) {\n",
       "        fig._resize_canvas(size[0], size[1]);\n",
       "        fig.send_message(\"refresh\", {});\n",
       "    };\n",
       "}\n",
       "\n",
       "mpl.figure.prototype.handle_rubberband = function(fig, msg) {\n",
       "    var x0 = msg['x0'] / mpl.ratio;\n",
       "    var y0 = (fig.canvas.height - msg['y0']) / mpl.ratio;\n",
       "    var x1 = msg['x1'] / mpl.ratio;\n",
       "    var y1 = (fig.canvas.height - msg['y1']) / mpl.ratio;\n",
       "    x0 = Math.floor(x0) + 0.5;\n",
       "    y0 = Math.floor(y0) + 0.5;\n",
       "    x1 = Math.floor(x1) + 0.5;\n",
       "    y1 = Math.floor(y1) + 0.5;\n",
       "    var min_x = Math.min(x0, x1);\n",
       "    var min_y = Math.min(y0, y1);\n",
       "    var width = Math.abs(x1 - x0);\n",
       "    var height = Math.abs(y1 - y0);\n",
       "\n",
       "    fig.rubberband_context.clearRect(\n",
       "        0, 0, fig.canvas.width, fig.canvas.height);\n",
       "\n",
       "    fig.rubberband_context.strokeRect(min_x, min_y, width, height);\n",
       "}\n",
       "\n",
       "mpl.figure.prototype.handle_figure_label = function(fig, msg) {\n",
       "    // Updates the figure title.\n",
       "    fig.header.textContent = msg['label'];\n",
       "}\n",
       "\n",
       "mpl.figure.prototype.handle_cursor = function(fig, msg) {\n",
       "    var cursor = msg['cursor'];\n",
       "    switch(cursor)\n",
       "    {\n",
       "    case 0:\n",
       "        cursor = 'pointer';\n",
       "        break;\n",
       "    case 1:\n",
       "        cursor = 'default';\n",
       "        break;\n",
       "    case 2:\n",
       "        cursor = 'crosshair';\n",
       "        break;\n",
       "    case 3:\n",
       "        cursor = 'move';\n",
       "        break;\n",
       "    }\n",
       "    fig.rubberband_canvas.style.cursor = cursor;\n",
       "}\n",
       "\n",
       "mpl.figure.prototype.handle_message = function(fig, msg) {\n",
       "    fig.message.textContent = msg['message'];\n",
       "}\n",
       "\n",
       "mpl.figure.prototype.handle_draw = function(fig, msg) {\n",
       "    // Request the server to send over a new figure.\n",
       "    fig.send_draw_message();\n",
       "}\n",
       "\n",
       "mpl.figure.prototype.handle_image_mode = function(fig, msg) {\n",
       "    fig.image_mode = msg['mode'];\n",
       "}\n",
       "\n",
       "mpl.figure.prototype.updated_canvas_event = function() {\n",
       "    // Called whenever the canvas gets updated.\n",
       "    this.send_message(\"ack\", {});\n",
       "}\n",
       "\n",
       "// A function to construct a web socket function for onmessage handling.\n",
       "// Called in the figure constructor.\n",
       "mpl.figure.prototype._make_on_message_function = function(fig) {\n",
       "    return function socket_on_message(evt) {\n",
       "        if (evt.data instanceof Blob) {\n",
       "            /* FIXME: We get \"Resource interpreted as Image but\n",
       "             * transferred with MIME type text/plain:\" errors on\n",
       "             * Chrome.  But how to set the MIME type?  It doesn't seem\n",
       "             * to be part of the websocket stream */\n",
       "            evt.data.type = \"image/png\";\n",
       "\n",
       "            /* Free the memory for the previous frames */\n",
       "            if (fig.imageObj.src) {\n",
       "                (window.URL || window.webkitURL).revokeObjectURL(\n",
       "                    fig.imageObj.src);\n",
       "            }\n",
       "\n",
       "            fig.imageObj.src = (window.URL || window.webkitURL).createObjectURL(\n",
       "                evt.data);\n",
       "            fig.updated_canvas_event();\n",
       "            fig.waiting = false;\n",
       "            return;\n",
       "        }\n",
       "        else if (typeof evt.data === 'string' && evt.data.slice(0, 21) == \"data:image/png;base64\") {\n",
       "            fig.imageObj.src = evt.data;\n",
       "            fig.updated_canvas_event();\n",
       "            fig.waiting = false;\n",
       "            return;\n",
       "        }\n",
       "\n",
       "        var msg = JSON.parse(evt.data);\n",
       "        var msg_type = msg['type'];\n",
       "\n",
       "        // Call the  \"handle_{type}\" callback, which takes\n",
       "        // the figure and JSON message as its only arguments.\n",
       "        try {\n",
       "            var callback = fig[\"handle_\" + msg_type];\n",
       "        } catch (e) {\n",
       "            console.log(\"No handler for the '\" + msg_type + \"' message type: \", msg);\n",
       "            return;\n",
       "        }\n",
       "\n",
       "        if (callback) {\n",
       "            try {\n",
       "                // console.log(\"Handling '\" + msg_type + \"' message: \", msg);\n",
       "                callback(fig, msg);\n",
       "            } catch (e) {\n",
       "                console.log(\"Exception inside the 'handler_\" + msg_type + \"' callback:\", e, e.stack, msg);\n",
       "            }\n",
       "        }\n",
       "    };\n",
       "}\n",
       "\n",
       "// from http://stackoverflow.com/questions/1114465/getting-mouse-location-in-canvas\n",
       "mpl.findpos = function(e) {\n",
       "    //this section is from http://www.quirksmode.org/js/events_properties.html\n",
       "    var targ;\n",
       "    if (!e)\n",
       "        e = window.event;\n",
       "    if (e.target)\n",
       "        targ = e.target;\n",
       "    else if (e.srcElement)\n",
       "        targ = e.srcElement;\n",
       "    if (targ.nodeType == 3) // defeat Safari bug\n",
       "        targ = targ.parentNode;\n",
       "\n",
       "    // jQuery normalizes the pageX and pageY\n",
       "    // pageX,Y are the mouse positions relative to the document\n",
       "    // offset() returns the position of the element relative to the document\n",
       "    var x = e.pageX - $(targ).offset().left;\n",
       "    var y = e.pageY - $(targ).offset().top;\n",
       "\n",
       "    return {\"x\": x, \"y\": y};\n",
       "};\n",
       "\n",
       "/*\n",
       " * return a copy of an object with only non-object keys\n",
       " * we need this to avoid circular references\n",
       " * http://stackoverflow.com/a/24161582/3208463\n",
       " */\n",
       "function simpleKeys (original) {\n",
       "  return Object.keys(original).reduce(function (obj, key) {\n",
       "    if (typeof original[key] !== 'object')\n",
       "        obj[key] = original[key]\n",
       "    return obj;\n",
       "  }, {});\n",
       "}\n",
       "\n",
       "mpl.figure.prototype.mouse_event = function(event, name) {\n",
       "    var canvas_pos = mpl.findpos(event)\n",
       "\n",
       "    if (name === 'button_press')\n",
       "    {\n",
       "        this.canvas.focus();\n",
       "        this.canvas_div.focus();\n",
       "    }\n",
       "\n",
       "    var x = canvas_pos.x * mpl.ratio;\n",
       "    var y = canvas_pos.y * mpl.ratio;\n",
       "\n",
       "    this.send_message(name, {x: x, y: y, button: event.button,\n",
       "                             step: event.step,\n",
       "                             guiEvent: simpleKeys(event)});\n",
       "\n",
       "    /* This prevents the web browser from automatically changing to\n",
       "     * the text insertion cursor when the button is pressed.  We want\n",
       "     * to control all of the cursor setting manually through the\n",
       "     * 'cursor' event from matplotlib */\n",
       "    event.preventDefault();\n",
       "    return false;\n",
       "}\n",
       "\n",
       "mpl.figure.prototype._key_event_extra = function(event, name) {\n",
       "    // Handle any extra behaviour associated with a key event\n",
       "}\n",
       "\n",
       "mpl.figure.prototype.key_event = function(event, name) {\n",
       "\n",
       "    // Prevent repeat events\n",
       "    if (name == 'key_press')\n",
       "    {\n",
       "        if (event.which === this._key)\n",
       "            return;\n",
       "        else\n",
       "            this._key = event.which;\n",
       "    }\n",
       "    if (name == 'key_release')\n",
       "        this._key = null;\n",
       "\n",
       "    var value = '';\n",
       "    if (event.ctrlKey && event.which != 17)\n",
       "        value += \"ctrl+\";\n",
       "    if (event.altKey && event.which != 18)\n",
       "        value += \"alt+\";\n",
       "    if (event.shiftKey && event.which != 16)\n",
       "        value += \"shift+\";\n",
       "\n",
       "    value += 'k';\n",
       "    value += event.which.toString();\n",
       "\n",
       "    this._key_event_extra(event, name);\n",
       "\n",
       "    this.send_message(name, {key: value,\n",
       "                             guiEvent: simpleKeys(event)});\n",
       "    return false;\n",
       "}\n",
       "\n",
       "mpl.figure.prototype.toolbar_button_onclick = function(name) {\n",
       "    if (name == 'download') {\n",
       "        this.handle_save(this, null);\n",
       "    } else {\n",
       "        this.send_message(\"toolbar_button\", {name: name});\n",
       "    }\n",
       "};\n",
       "\n",
       "mpl.figure.prototype.toolbar_button_onmouseover = function(tooltip) {\n",
       "    this.message.textContent = tooltip;\n",
       "};\n",
       "mpl.toolbar_items = [[\"Home\", \"Reset original view\", \"fa fa-home icon-home\", \"home\"], [\"Back\", \"Back to  previous view\", \"fa fa-arrow-left icon-arrow-left\", \"back\"], [\"Forward\", \"Forward to next view\", \"fa fa-arrow-right icon-arrow-right\", \"forward\"], [\"\", \"\", \"\", \"\"], [\"Pan\", \"Pan axes with left mouse, zoom with right\", \"fa fa-arrows icon-move\", \"pan\"], [\"Zoom\", \"Zoom to rectangle\", \"fa fa-square-o icon-check-empty\", \"zoom\"], [\"\", \"\", \"\", \"\"], [\"Download\", \"Download plot\", \"fa fa-floppy-o icon-save\", \"download\"]];\n",
       "\n",
       "mpl.extensions = [\"eps\", \"jpeg\", \"pdf\", \"png\", \"ps\", \"raw\", \"svg\", \"tif\"];\n",
       "\n",
       "mpl.default_extension = \"png\";var comm_websocket_adapter = function(comm) {\n",
       "    // Create a \"websocket\"-like object which calls the given IPython comm\n",
       "    // object with the appropriate methods. Currently this is a non binary\n",
       "    // socket, so there is still some room for performance tuning.\n",
       "    var ws = {};\n",
       "\n",
       "    ws.close = function() {\n",
       "        comm.close()\n",
       "    };\n",
       "    ws.send = function(m) {\n",
       "        //console.log('sending', m);\n",
       "        comm.send(m);\n",
       "    };\n",
       "    // Register the callback with on_msg.\n",
       "    comm.on_msg(function(msg) {\n",
       "        //console.log('receiving', msg['content']['data'], msg);\n",
       "        // Pass the mpl event to the overriden (by mpl) onmessage function.\n",
       "        ws.onmessage(msg['content']['data'])\n",
       "    });\n",
       "    return ws;\n",
       "}\n",
       "\n",
       "mpl.mpl_figure_comm = function(comm, msg) {\n",
       "    // This is the function which gets called when the mpl process\n",
       "    // starts-up an IPython Comm through the \"matplotlib\" channel.\n",
       "\n",
       "    var id = msg.content.data.id;\n",
       "    // Get hold of the div created by the display call when the Comm\n",
       "    // socket was opened in Python.\n",
       "    var element = $(\"#\" + id);\n",
       "    var ws_proxy = comm_websocket_adapter(comm)\n",
       "\n",
       "    function ondownload(figure, format) {\n",
       "        window.open(figure.imageObj.src);\n",
       "    }\n",
       "\n",
       "    var fig = new mpl.figure(id, ws_proxy,\n",
       "                           ondownload,\n",
       "                           element.get(0));\n",
       "\n",
       "    // Call onopen now - mpl needs it, as it is assuming we've passed it a real\n",
       "    // web socket which is closed, not our websocket->open comm proxy.\n",
       "    ws_proxy.onopen();\n",
       "\n",
       "    fig.parent_element = element.get(0);\n",
       "    fig.cell_info = mpl.find_output_cell(\"<div id='\" + id + \"'></div>\");\n",
       "    if (!fig.cell_info) {\n",
       "        console.error(\"Failed to find cell for figure\", id, fig);\n",
       "        return;\n",
       "    }\n",
       "\n",
       "    var output_index = fig.cell_info[2]\n",
       "    var cell = fig.cell_info[0];\n",
       "\n",
       "};\n",
       "\n",
       "mpl.figure.prototype.handle_close = function(fig, msg) {\n",
       "    var width = fig.canvas.width/mpl.ratio\n",
       "    fig.root.unbind('remove')\n",
       "\n",
       "    // Update the output cell to use the data from the current canvas.\n",
       "    fig.push_to_output();\n",
       "    var dataURL = fig.canvas.toDataURL();\n",
       "    // Re-enable the keyboard manager in IPython - without this line, in FF,\n",
       "    // the notebook keyboard shortcuts fail.\n",
       "    IPython.keyboard_manager.enable()\n",
       "    $(fig.parent_element).html('<img src=\"' + dataURL + '\" width=\"' + width + '\">');\n",
       "    fig.close_ws(fig, msg);\n",
       "}\n",
       "\n",
       "mpl.figure.prototype.close_ws = function(fig, msg){\n",
       "    fig.send_message('closing', msg);\n",
       "    // fig.ws.close()\n",
       "}\n",
       "\n",
       "mpl.figure.prototype.push_to_output = function(remove_interactive) {\n",
       "    // Turn the data on the canvas into data in the output cell.\n",
       "    var width = this.canvas.width/mpl.ratio\n",
       "    var dataURL = this.canvas.toDataURL();\n",
       "    this.cell_info[1]['text/html'] = '<img src=\"' + dataURL + '\" width=\"' + width + '\">';\n",
       "}\n",
       "\n",
       "mpl.figure.prototype.updated_canvas_event = function() {\n",
       "    // Tell IPython that the notebook contents must change.\n",
       "    IPython.notebook.set_dirty(true);\n",
       "    this.send_message(\"ack\", {});\n",
       "    var fig = this;\n",
       "    // Wait a second, then push the new image to the DOM so\n",
       "    // that it is saved nicely (might be nice to debounce this).\n",
       "    setTimeout(function () { fig.push_to_output() }, 1000);\n",
       "}\n",
       "\n",
       "mpl.figure.prototype._init_toolbar = function() {\n",
       "    var fig = this;\n",
       "\n",
       "    var nav_element = $('<div/>')\n",
       "    nav_element.attr('style', 'width: 100%');\n",
       "    this.root.append(nav_element);\n",
       "\n",
       "    // Define a callback function for later on.\n",
       "    function toolbar_event(event) {\n",
       "        return fig.toolbar_button_onclick(event['data']);\n",
       "    }\n",
       "    function toolbar_mouse_event(event) {\n",
       "        return fig.toolbar_button_onmouseover(event['data']);\n",
       "    }\n",
       "\n",
       "    for(var toolbar_ind in mpl.toolbar_items){\n",
       "        var name = mpl.toolbar_items[toolbar_ind][0];\n",
       "        var tooltip = mpl.toolbar_items[toolbar_ind][1];\n",
       "        var image = mpl.toolbar_items[toolbar_ind][2];\n",
       "        var method_name = mpl.toolbar_items[toolbar_ind][3];\n",
       "\n",
       "        if (!name) { continue; };\n",
       "\n",
       "        var button = $('<button class=\"btn btn-default\" href=\"#\" title=\"' + name + '\"><i class=\"fa ' + image + ' fa-lg\"></i></button>');\n",
       "        button.click(method_name, toolbar_event);\n",
       "        button.mouseover(tooltip, toolbar_mouse_event);\n",
       "        nav_element.append(button);\n",
       "    }\n",
       "\n",
       "    // Add the status bar.\n",
       "    var status_bar = $('<span class=\"mpl-message\" style=\"text-align:right; float: right;\"/>');\n",
       "    nav_element.append(status_bar);\n",
       "    this.message = status_bar[0];\n",
       "\n",
       "    // Add the close button to the window.\n",
       "    var buttongrp = $('<div class=\"btn-group inline pull-right\"></div>');\n",
       "    var button = $('<button class=\"btn btn-mini btn-primary\" href=\"#\" title=\"Stop Interaction\"><i class=\"fa fa-power-off icon-remove icon-large\"></i></button>');\n",
       "    button.click(function (evt) { fig.handle_close(fig, {}); } );\n",
       "    button.mouseover('Stop Interaction', toolbar_mouse_event);\n",
       "    buttongrp.append(button);\n",
       "    var titlebar = this.root.find($('.ui-dialog-titlebar'));\n",
       "    titlebar.prepend(buttongrp);\n",
       "}\n",
       "\n",
       "mpl.figure.prototype._root_extra_style = function(el){\n",
       "    var fig = this\n",
       "    el.on(\"remove\", function(){\n",
       "\tfig.close_ws(fig, {});\n",
       "    });\n",
       "}\n",
       "\n",
       "mpl.figure.prototype._canvas_extra_style = function(el){\n",
       "    // this is important to make the div 'focusable\n",
       "    el.attr('tabindex', 0)\n",
       "    // reach out to IPython and tell the keyboard manager to turn it's self\n",
       "    // off when our div gets focus\n",
       "\n",
       "    // location in version 3\n",
       "    if (IPython.notebook.keyboard_manager) {\n",
       "        IPython.notebook.keyboard_manager.register_events(el);\n",
       "    }\n",
       "    else {\n",
       "        // location in version 2\n",
       "        IPython.keyboard_manager.register_events(el);\n",
       "    }\n",
       "\n",
       "}\n",
       "\n",
       "mpl.figure.prototype._key_event_extra = function(event, name) {\n",
       "    var manager = IPython.notebook.keyboard_manager;\n",
       "    if (!manager)\n",
       "        manager = IPython.keyboard_manager;\n",
       "\n",
       "    // Check for shift+enter\n",
       "    if (event.shiftKey && event.which == 13) {\n",
       "        this.canvas_div.blur();\n",
       "        event.shiftKey = false;\n",
       "        // Send a \"J\" for go to next cell\n",
       "        event.which = 74;\n",
       "        event.keyCode = 74;\n",
       "        manager.command_mode();\n",
       "        manager.handle_keydown(event);\n",
       "    }\n",
       "}\n",
       "\n",
       "mpl.figure.prototype.handle_save = function(fig, msg) {\n",
       "    fig.ondownload(fig, null);\n",
       "}\n",
       "\n",
       "\n",
       "mpl.find_output_cell = function(html_output) {\n",
       "    // Return the cell and output element which can be found *uniquely* in the notebook.\n",
       "    // Note - this is a bit hacky, but it is done because the \"notebook_saving.Notebook\"\n",
       "    // IPython event is triggered only after the cells have been serialised, which for\n",
       "    // our purposes (turning an active figure into a static one), is too late.\n",
       "    var cells = IPython.notebook.get_cells();\n",
       "    var ncells = cells.length;\n",
       "    for (var i=0; i<ncells; i++) {\n",
       "        var cell = cells[i];\n",
       "        if (cell.cell_type === 'code'){\n",
       "            for (var j=0; j<cell.output_area.outputs.length; j++) {\n",
       "                var data = cell.output_area.outputs[j];\n",
       "                if (data.data) {\n",
       "                    // IPython >= 3 moved mimebundle to data attribute of output\n",
       "                    data = data.data;\n",
       "                }\n",
       "                if (data['text/html'] == html_output) {\n",
       "                    return [cell, data, j];\n",
       "                }\n",
       "            }\n",
       "        }\n",
       "    }\n",
       "}\n",
       "\n",
       "// Register the function which deals with the matplotlib target/channel.\n",
       "// The kernel may be null if the page has been refreshed.\n",
       "if (IPython.notebook.kernel != null) {\n",
       "    IPython.notebook.kernel.comm_manager.register_target('matplotlib', mpl.mpl_figure_comm);\n",
       "}\n"
      ],
      "text/plain": [
       "<IPython.core.display.Javascript object>"
      ]
     },
     "metadata": {},
     "output_type": "display_data"
    },
    {
     "data": {
      "text/html": [
       "<img src=\"data:image/png;base64,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\" width=\"640\">"
      ],
      "text/plain": [
       "<IPython.core.display.HTML object>"
      ]
     },
     "metadata": {},
     "output_type": "display_data"
    },
    {
     "name": "stdout",
     "output_type": "stream",
     "text": [
      "5012745.61161\n"
     ]
    }
   ],
   "source": [
    "# keep matplotlib interactive\n",
    "%matplotlib notebook\n",
    "import matplotlib.pyplot as plt\n",
    "# use ggplot style\n",
    "plt.style.use('ggplot')\n",
    "\n",
    "# plot errors for gbrt and ridge\n",
    "_, axsterr = plt.subplots()\n",
    "stack_error = (gbrt_pred-y_2)**2 - (ridge_pred-y_2)**2\n",
    "axsterr.plot(stack_error)\n",
    "# add title and axes labels\n",
    "axsterr.set_title('Delta MSE GBRT-Ridge')\n",
    "axsterr.set_xlabel('Error difference (GBRT-Ridge)')\n",
    "axsterr.set_ylabel('Samples')\n",
    "\n",
    "print(np.std(stack_error))"
   ]
  },
  {
   "cell_type": "code",
   "execution_count": null,
   "metadata": {
    "collapsed": true
   },
   "outputs": [],
   "source": [
    "# try decision tree blender instead of Ridge"
   ]
  },
  {
   "cell_type": "markdown",
   "metadata": {},
   "source": [
    "# Run model on test set"
   ]
  },
  {
   "cell_type": "markdown",
   "metadata": {},
   "source": [
    "Read test set in memory and recover encoders from file and derive one-hot encoded features"
   ]
  },
  {
   "cell_type": "code",
   "execution_count": 19,
   "metadata": {
    "collapsed": true
   },
   "outputs": [],
   "source": [
    "from utils import fextract as ft\n",
    "import pandas as pd\n",
    "import pickle\n",
    "import importlib\n",
    "\n",
    "filename = './test_HujdGe7/test.csv'\n",
    "df_test = pd.read_csv(filename)\n",
    "\n",
    "# Load encoders\n",
    "encoders = pickle.load( open( \"Onehotencoders.pkl\", \"rb\" ) )\n",
    "catcoders = pickle.load( open( \"Category_encoders.pkl\", \"rb\" ) )\n",
    "\n",
    "# reload is necessary if one makes changes in fextract. Indeed modules are loaded once only, this forces a reload.\n",
    "importlib.reload(ft)\n",
    "\n",
    "# get one-hot encoded features and their names\n",
    "features_test = ft.prepare_Data(df_test, (catcoders, encoders))"
   ]
  },
  {
   "cell_type": "markdown",
   "metadata": {},
   "source": [
    "Select necessary features (must match your feature model obviously)"
   ]
  },
  {
   "cell_type": "code",
   "execution_count": 20,
   "metadata": {},
   "outputs": [
    {
     "data": {
      "text/plain": [
       "(233599, 9996)"
      ]
     },
     "execution_count": 20,
     "metadata": {},
     "output_type": "execute_result"
    }
   ],
   "source": [
    "X_features_test = tuple(f[0] for f in features_test if f[1] in imp_feature)\n",
    "X_test = hstack( X_features_test )\n",
    "# check shape\n",
    "X_test.shape"
   ]
  },
  {
   "cell_type": "markdown",
   "metadata": {},
   "source": [
    "Make predictions and save them to file"
   ]
  },
  {
   "cell_type": "code",
   "execution_count": null,
   "metadata": {
    "collapsed": true
   },
   "outputs": [],
   "source": [
    "gbrt_pred_test = gbrt_stack.predict(X_test)\n",
    "ridge_pred_test = ridge_stack.predict(X_test)\n",
    "# stack predictions together\n",
    "X_blender_test = np.stack((gbrt_pred_test, ridge_pred_test), axis=1)\n",
    "\n",
    "# get final predictions\n",
    "X_blender_poly_test = polystack.transform(X_blender_test)\n",
    "y_pred_test = model_blr_grid.predict(X_blender_poly_test)\n",
    "\n",
    "# format result save to csv for submission\n",
    "df_results = df_test.loc[:,('User_ID','Product_ID')]\n",
    "df_results['Purchase'] = y_pred_test.reshape(-1,1)\n",
    "df_results.to_csv('./submissions/Submission_Stacking.csv', index=False)"
   ]
  },
  {
   "cell_type": "code",
   "execution_count": null,
   "metadata": {
    "collapsed": true
   },
   "outputs": [],
   "source": []
  }
 ],
 "metadata": {
  "kernelspec": {
   "display_name": "Python 3",
   "language": "python",
   "name": "python3"
  },
  "language_info": {
   "codemirror_mode": {
    "name": "ipython",
    "version": 3
   },
   "file_extension": ".py",
   "mimetype": "text/x-python",
   "name": "python",
   "nbconvert_exporter": "python",
   "pygments_lexer": "ipython3",
   "version": "3.5.4"
  }
 },
 "nbformat": 4,
 "nbformat_minor": 2
}
