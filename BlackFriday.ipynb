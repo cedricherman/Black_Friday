{
 "cells": [
  {
   "cell_type": "markdown",
   "metadata": {},
   "source": [
    "# Analytic Vidya - Black Friday \n",
    "\n",
    "A retail company “ABC Private Limited” wants to understand the customer purchase behaviour (specifically, purchase amount) against various products of different categories. They have shared purchase summary of various customers for selected high volume products from last month.\n",
    "The data set also contains customer demographics (age, gender, marital status, city_type, stay_in_current_city), product details (product_id and product category) and Total purchase_amount from last month.\n",
    "Now, they want to build a model to predict the purchase amount of customer against various products which will help them to create personalized offer for customers against different products."
   ]
  },
  {
   "cell_type": "markdown",
   "metadata": {},
   "source": [
    "## Data\n",
    "\n",
    "| Variable                   | Definition                                          |\n",
    "|----------------------------|-----------------------------------------------------|\n",
    "| User_ID                    | User ID                                             |\n",
    "| Product_ID                 | Product ID                                          |\n",
    "| Gender                     | Sex of User                                         |\n",
    "| Age                        | Age in bins                                         |\n",
    "| Occupation                 | Occupation (Masked)                                 |\n",
    "| City_Category              | Category of the City (A,B,C)                        |\n",
    "| Stay_In_Current_City_Years | Number of years stay in current city                |\n",
    "| Marital_Status             | Marital Status                                      |\n",
    "| Product_Category_1         | Product Category (Masked)                           |\n",
    "| Product_Category_2         | Product may belongs to other category also (Masked) |\n",
    "| Product_Category_3         | Product may belongs to other category also (Masked) |\n",
    "| Purchase                   | Purchase Amount (Target Variable)                   |"
   ]
  },
  {
   "cell_type": "markdown",
   "metadata": {},
   "source": [
    "## Exploration"
   ]
  },
  {
   "cell_type": "code",
   "execution_count": 1,
   "metadata": {
    "collapsed": true
   },
   "outputs": [],
   "source": [
    "import pandas as pd"
   ]
  },
  {
   "cell_type": "code",
   "execution_count": 2,
   "metadata": {
    "collapsed": true
   },
   "outputs": [],
   "source": [
    "filename = './train_oSwQCTC/train.csv'\n",
    "df = pd.read_csv(filename)"
   ]
  },
  {
   "cell_type": "code",
   "execution_count": 3,
   "metadata": {},
   "outputs": [
    {
     "data": {
      "text/html": [
       "<div>\n",
       "<style>\n",
       "    .dataframe thead tr:only-child th {\n",
       "        text-align: right;\n",
       "    }\n",
       "\n",
       "    .dataframe thead th {\n",
       "        text-align: left;\n",
       "    }\n",
       "\n",
       "    .dataframe tbody tr th {\n",
       "        vertical-align: top;\n",
       "    }\n",
       "</style>\n",
       "<table border=\"1\" class=\"dataframe\">\n",
       "  <thead>\n",
       "    <tr style=\"text-align: right;\">\n",
       "      <th></th>\n",
       "      <th>User_ID</th>\n",
       "      <th>Product_ID</th>\n",
       "      <th>Gender</th>\n",
       "      <th>Age</th>\n",
       "      <th>Occupation</th>\n",
       "      <th>City_Category</th>\n",
       "      <th>Stay_In_Current_City_Years</th>\n",
       "      <th>Marital_Status</th>\n",
       "      <th>Product_Category_1</th>\n",
       "      <th>Product_Category_2</th>\n",
       "      <th>Product_Category_3</th>\n",
       "      <th>Purchase</th>\n",
       "    </tr>\n",
       "  </thead>\n",
       "  <tbody>\n",
       "    <tr>\n",
       "      <th>0</th>\n",
       "      <td>1000001</td>\n",
       "      <td>P00069042</td>\n",
       "      <td>F</td>\n",
       "      <td>0-17</td>\n",
       "      <td>10</td>\n",
       "      <td>A</td>\n",
       "      <td>2</td>\n",
       "      <td>0</td>\n",
       "      <td>3</td>\n",
       "      <td>NaN</td>\n",
       "      <td>NaN</td>\n",
       "      <td>8370</td>\n",
       "    </tr>\n",
       "    <tr>\n",
       "      <th>1</th>\n",
       "      <td>1000001</td>\n",
       "      <td>P00248942</td>\n",
       "      <td>F</td>\n",
       "      <td>0-17</td>\n",
       "      <td>10</td>\n",
       "      <td>A</td>\n",
       "      <td>2</td>\n",
       "      <td>0</td>\n",
       "      <td>1</td>\n",
       "      <td>6.0</td>\n",
       "      <td>14.0</td>\n",
       "      <td>15200</td>\n",
       "    </tr>\n",
       "    <tr>\n",
       "      <th>2</th>\n",
       "      <td>1000001</td>\n",
       "      <td>P00087842</td>\n",
       "      <td>F</td>\n",
       "      <td>0-17</td>\n",
       "      <td>10</td>\n",
       "      <td>A</td>\n",
       "      <td>2</td>\n",
       "      <td>0</td>\n",
       "      <td>12</td>\n",
       "      <td>NaN</td>\n",
       "      <td>NaN</td>\n",
       "      <td>1422</td>\n",
       "    </tr>\n",
       "    <tr>\n",
       "      <th>3</th>\n",
       "      <td>1000001</td>\n",
       "      <td>P00085442</td>\n",
       "      <td>F</td>\n",
       "      <td>0-17</td>\n",
       "      <td>10</td>\n",
       "      <td>A</td>\n",
       "      <td>2</td>\n",
       "      <td>0</td>\n",
       "      <td>12</td>\n",
       "      <td>14.0</td>\n",
       "      <td>NaN</td>\n",
       "      <td>1057</td>\n",
       "    </tr>\n",
       "    <tr>\n",
       "      <th>4</th>\n",
       "      <td>1000002</td>\n",
       "      <td>P00285442</td>\n",
       "      <td>M</td>\n",
       "      <td>55+</td>\n",
       "      <td>16</td>\n",
       "      <td>C</td>\n",
       "      <td>4+</td>\n",
       "      <td>0</td>\n",
       "      <td>8</td>\n",
       "      <td>NaN</td>\n",
       "      <td>NaN</td>\n",
       "      <td>7969</td>\n",
       "    </tr>\n",
       "  </tbody>\n",
       "</table>\n",
       "</div>"
      ],
      "text/plain": [
       "   User_ID Product_ID Gender   Age  Occupation City_Category  \\\n",
       "0  1000001  P00069042      F  0-17          10             A   \n",
       "1  1000001  P00248942      F  0-17          10             A   \n",
       "2  1000001  P00087842      F  0-17          10             A   \n",
       "3  1000001  P00085442      F  0-17          10             A   \n",
       "4  1000002  P00285442      M   55+          16             C   \n",
       "\n",
       "  Stay_In_Current_City_Years  Marital_Status  Product_Category_1  \\\n",
       "0                          2               0                   3   \n",
       "1                          2               0                   1   \n",
       "2                          2               0                  12   \n",
       "3                          2               0                  12   \n",
       "4                         4+               0                   8   \n",
       "\n",
       "   Product_Category_2  Product_Category_3  Purchase  \n",
       "0                 NaN                 NaN      8370  \n",
       "1                 6.0                14.0     15200  \n",
       "2                 NaN                 NaN      1422  \n",
       "3                14.0                 NaN      1057  \n",
       "4                 NaN                 NaN      7969  "
      ]
     },
     "execution_count": 3,
     "metadata": {},
     "output_type": "execute_result"
    }
   ],
   "source": [
    "df.head()"
   ]
  },
  {
   "cell_type": "code",
   "execution_count": 4,
   "metadata": {},
   "outputs": [
    {
     "data": {
      "text/plain": [
       "User_ID                       550068\n",
       "Product_ID                    550068\n",
       "Gender                        550068\n",
       "Age                           550068\n",
       "Occupation                    550068\n",
       "City_Category                 550068\n",
       "Stay_In_Current_City_Years    550068\n",
       "Marital_Status                550068\n",
       "Product_Category_1            550068\n",
       "Product_Category_2            376430\n",
       "Product_Category_3            166821\n",
       "Purchase                      550068\n",
       "dtype: int64"
      ]
     },
     "execution_count": 4,
     "metadata": {},
     "output_type": "execute_result"
    }
   ],
   "source": [
    "# missing data in Product_Category_2 and Product_Category_3\n",
    "df.count()"
   ]
  },
  {
   "cell_type": "code",
   "execution_count": 5,
   "metadata": {},
   "outputs": [
    {
     "data": {
      "text/plain": [
       "True"
      ]
     },
     "execution_count": 5,
     "metadata": {},
     "output_type": "execute_result"
    }
   ],
   "source": [
    "# there are mutiple purchase per user in this dataset\n",
    "df.User_ID.duplicated().any()"
   ]
  },
  {
   "cell_type": "code",
   "execution_count": 6,
   "metadata": {},
   "outputs": [
    {
     "data": {
      "text/plain": [
       "5891"
      ]
     },
     "execution_count": 6,
     "metadata": {},
     "output_type": "execute_result"
    }
   ],
   "source": [
    "# How many users?\n",
    "df.User_ID.value_counts().count()"
   ]
  },
  {
   "cell_type": "code",
   "execution_count": 7,
   "metadata": {},
   "outputs": [
    {
     "data": {
      "text/plain": [
       "<matplotlib.axes._subplots.AxesSubplot at 0x28d90cef518>"
      ]
     },
     "execution_count": 7,
     "metadata": {},
     "output_type": "execute_result"
    },
    {
     "data": {
      "image/png": "[encoded data removed]",
      "text/plain": [
       "<matplotlib.figure.Figure at 0x28d90714ba8>"
      ]
     },
     "metadata": {},
     "output_type": "display_data"
    }
   ],
   "source": [
    "import matplotlib.pyplot as plt\n",
    "plt.style.use('ggplot')\n",
    "%matplotlib inline\n",
    "\n",
    "# What is the distribution of purchases price?\n",
    "df.Purchase.hist(color='b', edgecolor ='k')"
   ]
  },
  {
   "cell_type": "code",
   "execution_count": 8,
   "metadata": {},
   "outputs": [
    {
     "data": {
      "text/plain": [
       "<matplotlib.axes._subplots.AxesSubplot at 0x28d910e6fd0>"
      ]
     },
     "execution_count": 8,
     "metadata": {},
     "output_type": "execute_result"
    },
    {
     "data": {
      "image/png": "[encoded data removed]",
      "text/plain": [
       "<matplotlib.figure.Figure at 0x28d90516908>"
      ]
     },
     "metadata": {},
     "output_type": "display_data"
    }
   ],
   "source": [
    "# What is the average purchase amount per user?\n",
    "df.groupby(['User_ID']).Purchase.mean().hist()"
   ]
  },
  {
   "cell_type": "code",
   "execution_count": 9,
   "metadata": {},
   "outputs": [
    {
     "data": {
      "text/plain": [
       "(0, 100)"
      ]
     },
     "execution_count": 9,
     "metadata": {},
     "output_type": "execute_result"
    },
    {
     "data": {
      "image/png": "[encoded data removed]",
      "text/plain": [
       "<matplotlib.figure.Figure at 0x28d91146668>"
      ]
     },
     "metadata": {},
     "output_type": "display_data"
    }
   ],
   "source": [
    "# how many purchase per user ?\n",
    "df.groupby(['User_ID']).User_ID.count().hist(bins=1000)\n",
    "import matplotlib.pyplot as plt\n",
    "plt.gca().set_xlim(0,100)"
   ]
  },
  {
   "cell_type": "markdown",
   "metadata": {},
   "source": [
    "## Gender\n",
    "\n",
    "There are only Male or Female in this dataset, encode with arbitrary labeler (i.e. 0 and 1)"
   ]
  },
  {
   "cell_type": "code",
   "execution_count": 10,
   "metadata": {},
   "outputs": [
    {
     "data": {
      "text/plain": [
       "M    414259\n",
       "F    135809\n",
       "Name: Gender, dtype: int64"
      ]
     },
     "execution_count": 10,
     "metadata": {},
     "output_type": "execute_result"
    }
   ],
   "source": [
    "# how many different gender types?\n",
    "df.Gender.value_counts()"
   ]
  },
  {
   "cell_type": "code",
   "execution_count": 11,
   "metadata": {
    "collapsed": true
   },
   "outputs": [],
   "source": [
    "# use scikit-learn encoder\n",
    "from sklearn.preprocessing import LabelEncoder\n",
    "from scipy.sparse import csr_matrix\n",
    "Gender_encoder = LabelEncoder()\n",
    "Gender_coded = Gender_encoder.fit_transform(df.Gender.values)\n",
    "Gender_encoder.classes_\n",
    "# sparse matrix conversion\n",
    "Gender_coded = csr_matrix(Gender_coded.reshape(-1,1))"
   ]
  },
  {
   "cell_type": "code",
   "execution_count": 50,
   "metadata": {},
   "outputs": [
    {
     "name": "stderr",
     "output_type": "stream",
     "text": [
      "C:\\ProgramData\\Anaconda3\\lib\\site-packages\\ipykernel_launcher.py:2: SettingWithCopyWarning: \n",
      "A value is trying to be set on a copy of a slice from a DataFrame\n",
      "\n",
      "See the caveats in the documentation: http://pandas.pydata.org/pandas-docs/stable/indexing.html#indexing-view-versus-copy\n",
      "  \n",
      "C:\\ProgramData\\Anaconda3\\lib\\site-packages\\ipykernel_launcher.py:3: SettingWithCopyWarning: \n",
      "A value is trying to be set on a copy of a slice from a DataFrame\n",
      "\n",
      "See the caveats in the documentation: http://pandas.pydata.org/pandas-docs/stable/indexing.html#indexing-view-versus-copy\n",
      "  This is separate from the ipykernel package so we can avoid doing imports until\n"
     ]
    }
   ],
   "source": [
    "# could have done it with pandas, gives indexing warning\n",
    "df.Gender[df.Gender == 'M'] = 0\n",
    "df.Gender[df.Gender == 'F'] = 1\n",
    "# # equivalent, gives indexing warning\n",
    "# df.loc[:,'Gender'][df.Gender == 'M'] = 0\n",
    "# df.loc[:,'Gender'][df.Gender == 'F'] = 1\n",
    "\n",
    "# # equivalent but does not give indexing warning\n",
    "# df.loc[:,'Gender'] = df.loc[:,'Gender'].apply(lambda x: 0 if x == 'M' else 1)"
   ]
  },
  {
   "cell_type": "markdown",
   "metadata": {},
   "source": [
    "## Age\n",
    "There are age categories, encode them via one-hot encoding scheme"
   ]
  },
  {
   "cell_type": "code",
   "execution_count": 13,
   "metadata": {},
   "outputs": [
    {
     "data": {
      "text/plain": [
       "26-35    219587\n",
       "36-45    110013\n",
       "18-25     99660\n",
       "46-50     45701\n",
       "51-55     38501\n",
       "55+       21504\n",
       "0-17      15102\n",
       "Name: Age, dtype: int64"
      ]
     },
     "execution_count": 13,
     "metadata": {},
     "output_type": "execute_result"
    }
   ],
   "source": [
    "# how many different age categories?\n",
    "df.Age.value_counts()"
   ]
  },
  {
   "cell_type": "code",
   "execution_count": 14,
   "metadata": {},
   "outputs": [
    {
     "name": "stdout",
     "output_type": "stream",
     "text": [
      "['0-17' '18-25' '26-35' '36-45' '46-50' '51-55' '55+']\n",
      "  (0, 0)\t1\n",
      "  (1, 1)\t1\n",
      "  (2, 2)\t1\n",
      "  (3, 3)\t1\n",
      "  (4, 4)\t1\n",
      "  (5, 5)\t1\n",
      "  (6, 6)\t1\n",
      "(550068, 7)\n"
     ]
    }
   ],
   "source": [
    "# use scikit-learn encoder\n",
    "from sklearn.preprocessing import LabelBinarizer\n",
    "Age_encoder = LabelBinarizer( sparse_output=True )\n",
    "Age_coded = Age_encoder.fit_transform(df.Age.values)\n",
    "\n",
    "# print all age categories\n",
    "print(Age_encoder.classes_)\n",
    "# print associated encoded values\n",
    "print(Age_encoder.fit_transform(Age_encoder.classes_))\n",
    "# resulting feature array should have as many columns as age categories\n",
    "print(Age_coded.shape)"
   ]
  },
  {
   "cell_type": "markdown",
   "metadata": {},
   "source": [
    "## Occupation\n",
    "Occupation are masked. In other words they are already encoded.<br>\n",
    "Occupation are categorical so we need to use one-hot encoding."
   ]
  },
  {
   "cell_type": "code",
   "execution_count": 15,
   "metadata": {},
   "outputs": [
    {
     "data": {
      "text/plain": [
       "0     69638\n",
       "1     47426\n",
       "2     26588\n",
       "3     17650\n",
       "4     72308\n",
       "5     12177\n",
       "6     20355\n",
       "7     59133\n",
       "8      1546\n",
       "9      6291\n",
       "10    12930\n",
       "11    11586\n",
       "12    31179\n",
       "13     7728\n",
       "14    27309\n",
       "15    12165\n",
       "16    25371\n",
       "17    40043\n",
       "18     6622\n",
       "19     8461\n",
       "20    33562\n",
       "Name: Occupation, dtype: int64"
      ]
     },
     "execution_count": 15,
     "metadata": {},
     "output_type": "execute_result"
    }
   ],
   "source": [
    "# what are the different occupation ?\n",
    "df.Occupation.value_counts().sort_index()"
   ]
  },
  {
   "cell_type": "code",
   "execution_count": 16,
   "metadata": {},
   "outputs": [
    {
     "name": "stdout",
     "output_type": "stream",
     "text": [
      "[21]\n",
      "(550068, 21)\n"
     ]
    }
   ],
   "source": [
    "from sklearn.preprocessing import OneHotEncoder\n",
    "# outputs sparse matrix by default\n",
    "Occ_encoder = OneHotEncoder()\n",
    "Occ_coded = Occ_encoder.fit_transform(df.Occupation.values.reshape(-1,1))\n",
    "\n",
    "#  number of different values per feature (i.e. per column) encoder found \n",
    "print(Occ_encoder.n_values_ )\n",
    "# resulting feature array should have as many columns as categories\n",
    "print(Occ_coded.shape)"
   ]
  },
  {
   "cell_type": "markdown",
   "metadata": {},
   "source": [
    "## City categories\n",
    "There are 3 city categories: A, B and C.<br>\n",
    "Encoded them via labelbinarizer"
   ]
  },
  {
   "cell_type": "code",
   "execution_count": 17,
   "metadata": {},
   "outputs": [
    {
     "data": {
      "text/plain": [
       "A    147720\n",
       "B    231173\n",
       "C    171175\n",
       "Name: City_Category, dtype: int64"
      ]
     },
     "execution_count": 17,
     "metadata": {},
     "output_type": "execute_result"
    }
   ],
   "source": [
    "# what are the different city categories?\n",
    "df.City_Category.value_counts().sort_index()"
   ]
  },
  {
   "cell_type": "code",
   "execution_count": 18,
   "metadata": {},
   "outputs": [
    {
     "name": "stdout",
     "output_type": "stream",
     "text": [
      "['A' 'B' 'C']\n",
      "  (0, 0)\t1\n",
      "  (1, 1)\t1\n",
      "  (2, 2)\t1\n",
      "(550068, 3)\n"
     ]
    }
   ],
   "source": [
    "# use scikit-learn encoder\n",
    "from sklearn.preprocessing import LabelBinarizer\n",
    "City_encoder = LabelBinarizer(sparse_output=True)\n",
    "City_coded = City_encoder.fit_transform(df.City_Category.values)\n",
    "\n",
    "# print all categories\n",
    "print(City_encoder.classes_)\n",
    "# print associated encoded values\n",
    "print(City_encoder.fit_transform(City_encoder.classes_))\n",
    "# resulting feature array should have as many columns as categories\n",
    "print(City_coded.shape)"
   ]
  },
  {
   "cell_type": "markdown",
   "metadata": {},
   "source": [
    "## Number of year in current city\n",
    "You can select 0 to 3 years then it is 4+ years.<br>\n",
    "Replace 4+ with 4 years to keep only numeric values. All we know is it has been at least 4 years.\n"
   ]
  },
  {
   "cell_type": "code",
   "execution_count": 19,
   "metadata": {},
   "outputs": [
    {
     "data": {
      "text/plain": [
       "0      74398\n",
       "1     193821\n",
       "2     101838\n",
       "3      95285\n",
       "4+     84726\n",
       "Name: Stay_In_Current_City_Years, dtype: int64"
      ]
     },
     "execution_count": 19,
     "metadata": {},
     "output_type": "execute_result"
    }
   ],
   "source": [
    "# years in current city\n",
    "df.Stay_In_Current_City_Years.value_counts().sort_index()"
   ]
  },
  {
   "cell_type": "code",
   "execution_count": 20,
   "metadata": {},
   "outputs": [
    {
     "data": {
      "text/plain": [
       "numpy.ndarray"
      ]
     },
     "execution_count": 20,
     "metadata": {},
     "output_type": "execute_result"
    }
   ],
   "source": [
    "from scipy.sparse import csr_matrix\n",
    "Years_Current_City = df.loc[:,'Stay_In_Current_City_Years'].apply(lambda x: 4 if x == '4+' else int(x)).values\n",
    "Years_Current_City_csr = csr_matrix(Years_Current_City.reshape(-1,1))\n",
    "type(Years_Current_City)"
   ]
  },
  {
   "cell_type": "code",
   "execution_count": 21,
   "metadata": {},
   "outputs": [
    {
     "data": {
      "text/plain": [
       "(550068, 3)"
      ]
     },
     "execution_count": 21,
     "metadata": {},
     "output_type": "execute_result"
    }
   ],
   "source": [
    "# try polynomes on years in current city\n",
    "from sklearn.preprocessing import PolynomialFeatures\n",
    "from scipy.sparse import csr_matrix\n",
    "# object to compute\n",
    "poly = PolynomialFeatures(degree=3, interaction_only=False, include_bias=False)\n",
    "# compute polynomial features\n",
    "Years_Current_City_poly = poly.fit_transform(Years_Current_City.reshape(-1,1))\n",
    "# convert to sparse matrix\n",
    "Years_Current_City_polycsr = csr_matrix(Years_Current_City_poly)\n",
    "Years_Current_City_polycsr.shape"
   ]
  },
  {
   "cell_type": "markdown",
   "metadata": {},
   "source": [
    "## Marital status\n",
    "Marital status is 0 or 1. I'm guessing it means you're married if 1 otherwise you're not with 0.<br>\n",
    "Can be used as given (i.e. without modifications/encoding)."
   ]
  },
  {
   "cell_type": "code",
   "execution_count": 22,
   "metadata": {},
   "outputs": [
    {
     "data": {
      "text/plain": [
       "0    324731\n",
       "1    225337\n",
       "Name: Marital_Status, dtype: int64"
      ]
     },
     "execution_count": 22,
     "metadata": {},
     "output_type": "execute_result"
    }
   ],
   "source": [
    "# categories of marital status\n",
    "df.Marital_Status.value_counts().sort_index()"
   ]
  },
  {
   "cell_type": "code",
   "execution_count": 23,
   "metadata": {},
   "outputs": [
    {
     "data": {
      "text/plain": [
       "(550068, 1)"
      ]
     },
     "execution_count": 23,
     "metadata": {},
     "output_type": "execute_result"
    }
   ],
   "source": [
    "from scipy.sparse import csr_matrix\n",
    "Mar_status = df.Marital_Status.values\n",
    "Mar_status = csr_matrix(Mar_status.reshape(-1,1))\n",
    "Mar_status.shape"
   ]
  },
  {
   "cell_type": "markdown",
   "metadata": {},
   "source": [
    "## Product Categories\n",
    "Category 1 has 20 products categories (1 to 20). <br>\n",
    "Category 2 has 17 products categories (2.0 to 18.0). <br>\n",
    "Category 3 has 15 products categories (3.0 to 18.0, missing 7.0)."
   ]
  },
  {
   "cell_type": "code",
   "execution_count": 24,
   "metadata": {},
   "outputs": [
    {
     "data": {
      "text/plain": [
       "1     140378\n",
       "2      23864\n",
       "3      20213\n",
       "4      11753\n",
       "5     150933\n",
       "6      20466\n",
       "7       3721\n",
       "8     113925\n",
       "9        410\n",
       "10      5125\n",
       "11     24287\n",
       "12      3947\n",
       "13      5549\n",
       "14      1523\n",
       "15      6290\n",
       "16      9828\n",
       "17       578\n",
       "18      3125\n",
       "19      1603\n",
       "20      2550\n",
       "Name: Product_Category_1, dtype: int64"
      ]
     },
     "execution_count": 24,
     "metadata": {},
     "output_type": "execute_result"
    }
   ],
   "source": [
    "# categories of marital status\n",
    "df.Product_Category_1.value_counts().sort_index()"
   ]
  },
  {
   "cell_type": "code",
   "execution_count": 25,
   "metadata": {},
   "outputs": [
    {
     "name": "stdout",
     "output_type": "stream",
     "text": [
      "[21]\n",
      "(550068, 20)\n"
     ]
    }
   ],
   "source": [
    "from sklearn.preprocessing import OneHotEncoder\n",
    "Prod1_encoder = OneHotEncoder()\n",
    "Prod1_coded = Prod1_encoder.fit_transform(df.Product_Category_1.values.reshape(-1,1))\n",
    "\n",
    "#  number of different values per feature (i.e. per column) encoder found \n",
    "print(Prod1_encoder.n_values_ )\n",
    "# resulting feature array should have as many columns as categories\n",
    "print(Prod1_coded.shape)"
   ]
  },
  {
   "cell_type": "markdown",
   "metadata": {},
   "source": [
    "Product Category 1 is good to go. Let's see if we can combine all product categories"
   ]
  },
  {
   "cell_type": "code",
   "execution_count": 26,
   "metadata": {},
   "outputs": [
    {
     "data": {
      "text/plain": [
       "Product_Category_1\n",
       "1     [[Axes(0.125,0.125;0.775x0.755)]]\n",
       "2     [[Axes(0.125,0.125;0.775x0.755)]]\n",
       "3     [[Axes(0.125,0.125;0.775x0.755)]]\n",
       "4     [[Axes(0.125,0.125;0.775x0.755)]]\n",
       "5     [[Axes(0.125,0.125;0.775x0.755)]]\n",
       "6     [[Axes(0.125,0.125;0.775x0.755)]]\n",
       "7     [[Axes(0.125,0.125;0.775x0.755)]]\n",
       "8     [[Axes(0.125,0.125;0.775x0.755)]]\n",
       "9     [[Axes(0.125,0.125;0.775x0.755)]]\n",
       "10    [[Axes(0.125,0.125;0.775x0.755)]]\n",
       "11    [[Axes(0.125,0.125;0.775x0.755)]]\n",
       "12    [[Axes(0.125,0.125;0.775x0.755)]]\n",
       "13    [[Axes(0.125,0.125;0.775x0.755)]]\n",
       "14    [[Axes(0.125,0.125;0.775x0.755)]]\n",
       "15    [[Axes(0.125,0.125;0.775x0.755)]]\n",
       "16    [[Axes(0.125,0.125;0.775x0.755)]]\n",
       "17    [[Axes(0.125,0.125;0.775x0.755)]]\n",
       "18    [[Axes(0.125,0.125;0.775x0.755)]]\n",
       "19    [[Axes(0.125,0.125;0.775x0.755)]]\n",
       "20    [[Axes(0.125,0.125;0.775x0.755)]]\n",
       "dtype: object"
      ]
     },
     "execution_count": 26,
     "metadata": {},
     "output_type": "execute_result"
    },
    {
     "data": {
      "image/png": "[encoded data removed]",
      "text/plain": [
       "<matplotlib.figure.Figure at 0x28d95adf400>"
      ]
     },
     "metadata": {},
     "output_type": "display_data"
    },
    {
     "data": {
      "image/png": "[encoded data removed]",
      "text/plain": [
       "<matplotlib.figure.Figure at 0x28d97a77898>"
      ]
     },
     "metadata": {},
     "output_type": "display_data"
    },
    {
     "data": {
      "image/png": "[encoded data removed]",
      "text/plain": [
       "<matplotlib.figure.Figure at 0x28d966e0748>"
      ]
     },
     "metadata": {},
     "output_type": "display_data"
    },
    {
     "data": {
      "image/png": "[encoded data removed]",
      "text/plain": [
       "<matplotlib.figure.Figure at 0x28d96725c18>"
      ]
     },
     "metadata": {},
     "output_type": "display_data"
    },
    {
     "data": {
      "image/png": "[encoded data removed]",
      "text/plain": [
       "<matplotlib.figure.Figure at 0x28d912812b0>"
      ]
     },
     "metadata": {},
     "output_type": "display_data"
    },
    {
     "data": {
      "image/png": "[encoded data removed]",
      "text/plain": [
       "<matplotlib.figure.Figure at 0x28d912ebe80>"
      ]
     },
     "metadata": {},
     "output_type": "display_data"
    },
    {
     "data": {
      "image/png": "[encoded data removed]",
      "text/plain": [
       "<matplotlib.figure.Figure at 0x28d91364ba8>"
      ]
     },
     "metadata": {},
     "output_type": "display_data"
    },
    {
     "data": {
      "image/png": "[encoded data removed]",
      "text/plain": [
       "<matplotlib.figure.Figure at 0x28d920fb4a8>"
      ]
     },
     "metadata": {},
     "output_type": "display_data"
    },
    {
     "data": {
      "image/png": "[encoded data removed]",
      "text/plain": [
       "<matplotlib.figure.Figure at 0x28d92178320>"
      ]
     },
     "metadata": {},
     "output_type": "display_data"
    },
    {
     "data": {
      "image/png": "[encoded data removed]",
      "text/plain": [
       "<matplotlib.figure.Figure at 0x28d913986d8>"
      ]
     },
     "metadata": {},
     "output_type": "display_data"
    },
    {
     "data": {
      "image/png": "[encoded data removed]",
      "text/plain": [
       "<matplotlib.figure.Figure at 0x28d91410240>"
      ]
     },
     "metadata": {},
     "output_type": "display_data"
    },
    {
     "data": {
      "image/png": "[encoded data removed]",
      "text/plain": [
       "<matplotlib.figure.Figure at 0x28d91487748>"
      ]
     },
     "metadata": {},
     "output_type": "display_data"
    },
    {
     "data": {
      "image/png": "[encoded data removed]",
      "text/plain": [
       "<matplotlib.figure.Figure at 0x28d9150a4e0>"
      ]
     },
     "metadata": {},
     "output_type": "display_data"
    },
    {
     "data": {
      "image/png": "[encoded data removed]",
      "text/plain": [
       "<matplotlib.figure.Figure at 0x28d915c17f0>"
      ]
     },
     "metadata": {},
     "output_type": "display_data"
    },
    {
     "data": {
      "image/png": "[encoded data removed]",
      "text/plain": [
       "<matplotlib.figure.Figure at 0x28d9163de10>"
      ]
     },
     "metadata": {},
     "output_type": "display_data"
    },
    {
     "data": {
      "image/png": "[encoded data removed]",
      "text/plain": [
       "<matplotlib.figure.Figure at 0x28d916b7208>"
      ]
     },
     "metadata": {},
     "output_type": "display_data"
    },
    {
     "data": {
      "image/png": "[encoded data removed]",
      "text/plain": [
       "<matplotlib.figure.Figure at 0x28d916f5550>"
      ]
     },
     "metadata": {},
     "output_type": "display_data"
    },
    {
     "data": {
      "image/png": "[encoded data removed]",
      "text/plain": [
       "<matplotlib.figure.Figure at 0x28d917ae4a8>"
      ]
     },
     "metadata": {},
     "output_type": "display_data"
    },
    {
     "data": {
      "image/png": "[encoded data removed]",
      "text/plain": [
       "<matplotlib.figure.Figure at 0x28d91808b00>"
      ]
     },
     "metadata": {},
     "output_type": "display_data"
    },
    {
     "data": {
      "image/png": "[encoded data removed]",
      "text/plain": [
       "<matplotlib.figure.Figure at 0x28d91880fd0>"
      ]
     },
     "metadata": {},
     "output_type": "display_data"
    }
   ],
   "source": [
    "# distrbution of Product2 given Product1\n",
    "df.groupby(['Product_Category_1']).hist(column='Product_Category_2')"
   ]
  },
  {
   "cell_type": "code",
   "execution_count": 27,
   "metadata": {
    "collapsed": true
   },
   "outputs": [],
   "source": [
    "# combine Prod_1, Prod_2 and Prod_3\n",
    "temp = df.apply(lambda x:\\\n",
    "            '-'.join([str(x['Product_Category_1']),\\\n",
    "                      str(x['Product_Category_2']), \\\n",
    "                      str(x['Product_Category_3']), \\\n",
    "                     ]), axis=1 )\n",
    "# name of column in newly created pandas series\n",
    "temp.name='Product_Cat123'\n",
    "#'-'.join([str(df.loc[2, 'Product_Category_1']), str(df.loc[2, 'Product_Category_2']) ] )\n",
    "# could convert to string first with\n",
    "#df.iloc[:,('col1', 'col2')].astype(str)"
   ]
  },
  {
   "cell_type": "code",
   "execution_count": 28,
   "metadata": {},
   "outputs": [
    {
     "data": {
      "text/plain": [
       "237"
      ]
     },
     "execution_count": 28,
     "metadata": {},
     "output_type": "execute_result"
    }
   ],
   "source": [
    "# number of different (Prod1-Prod2-Prod3) combination\n",
    "temp.value_counts().count()"
   ]
  },
  {
   "cell_type": "code",
   "execution_count": 29,
   "metadata": {},
   "outputs": [
    {
     "name": "stdout",
     "output_type": "stream",
     "text": [
      "['1-11.0-15.0' '1-11.0-16.0' '1-11.0-nan' '1-13.0-14.0' '1-13.0-15.0']\n",
      "  (0, 0)\t1\n",
      "  (1, 1)\t1\n",
      "  (2, 2)\t1\n",
      "  (3, 3)\t1\n",
      "  (4, 4)\t1\n",
      "(550068, 237)\n"
     ]
    }
   ],
   "source": [
    "# use scikit-learn encoder\n",
    "from sklearn.preprocessing import LabelBinarizer\n",
    "Prod_encoder = LabelBinarizer(sparse_output=True)\n",
    "Prod_coded = Prod_encoder.fit_transform(temp.values)\n",
    "\n",
    "# print all categories\n",
    "print(Prod_encoder.classes_[:5])\n",
    "# print associated encoded values\n",
    "print(Prod_encoder.fit_transform(Prod_encoder.classes_)[:5])\n",
    "# resulting feature array should have as many columns as categories\n",
    "print(Prod_coded.shape)"
   ]
  },
  {
   "cell_type": "markdown",
   "metadata": {},
   "source": [
    "## User ID"
   ]
  },
  {
   "cell_type": "code",
   "execution_count": 30,
   "metadata": {},
   "outputs": [
    {
     "name": "stdout",
     "output_type": "stream",
     "text": [
      "[1000001 1000002 1000003 1000004 1000005]\n",
      "  (0, 0)\t1\n",
      "  (1, 1)\t1\n",
      "  (2, 2)\t1\n",
      "  (3, 3)\t1\n",
      "  (4, 4)\t1\n",
      "(550068, 5891)\n"
     ]
    }
   ],
   "source": [
    "# use scikit-learn encoder\n",
    "from sklearn.preprocessing import LabelBinarizer\n",
    "User_encoder = LabelBinarizer(sparse_output=True)\n",
    "User_coded = User_encoder.fit_transform(df.User_ID.values)\n",
    "\n",
    "# print all categories\n",
    "print(User_encoder.classes_[:5])\n",
    "# print associated encoded values\n",
    "print(User_encoder.fit_transform(User_encoder.classes_)[:5])\n",
    "# resulting feature array should have as many columns as categories\n",
    "print(User_coded.shape)\n",
    "\n",
    "# users are already encoded, only need one-hot encoding\n",
    "#TODO"
   ]
  },
  {
   "cell_type": "markdown",
   "metadata": {},
   "source": [
    "## Product ID"
   ]
  },
  {
   "cell_type": "code",
   "execution_count": 31,
   "metadata": {},
   "outputs": [
    {
     "data": {
      "text/plain": [
       "3631"
      ]
     },
     "execution_count": 31,
     "metadata": {},
     "output_type": "execute_result"
    }
   ],
   "source": [
    "# number of different products\n",
    "df.Product_ID.value_counts().count()"
   ]
  },
  {
   "cell_type": "code",
   "execution_count": 32,
   "metadata": {},
   "outputs": [
    {
     "name": "stdout",
     "output_type": "stream",
     "text": [
      "['P00000142' 'P00000242' 'P00000342' 'P00000442' 'P00000542']\n",
      "  (0, 0)\t1\n",
      "  (1, 1)\t1\n",
      "  (2, 2)\t1\n",
      "  (3, 3)\t1\n",
      "  (4, 4)\t1\n",
      "(550068, 3631)\n"
     ]
    }
   ],
   "source": [
    "# use scikit-learn encoder\n",
    "from sklearn.preprocessing import LabelBinarizer\n",
    "ProdID_encoder = LabelBinarizer(sparse_output=True)\n",
    "ProdID_coded = ProdID_encoder.fit_transform(df.Product_ID.values)\n",
    "\n",
    "# print all categories\n",
    "print(ProdID_encoder.classes_[:5])\n",
    "# print associated encoded values\n",
    "print(ProdID_encoder.fit_transform(ProdID_encoder.classes_)[:5])\n",
    "# resulting feature array should have as many columns as categories\n",
    "print(ProdID_coded.shape)"
   ]
  },
  {
   "cell_type": "markdown",
   "metadata": {},
   "source": [
    "### Does each Product ID refer to a unique product category?"
   ]
  },
  {
   "cell_type": "code",
   "execution_count": 33,
   "metadata": {},
   "outputs": [
    {
     "data": {
      "text/plain": [
       "Product_ID        550068\n",
       "Product_Cat123    550068\n",
       "dtype: int64"
      ]
     },
     "execution_count": 33,
     "metadata": {},
     "output_type": "execute_result"
    }
   ],
   "source": [
    "# Group by product ID and see if each Product ID occurrence has a unique Product category triplet\n",
    "df_ProdIDCat = pd.concat([df.loc[:,'Product_ID'], temp], axis=1)\n",
    "df_ProdIDCat.count()"
   ]
  },
  {
   "cell_type": "code",
   "execution_count": 34,
   "metadata": {},
   "outputs": [
    {
     "name": "stdout",
     "output_type": "stream",
     "text": [
      "3631\n",
      "3631\n"
     ]
    }
   ],
   "source": [
    "# this produces an empty dataframe as they are no remaining data (only two columns)\n",
    "# BUT index has tuples and if the first element repeats in more than one tuples then they are Product ID that fits\n",
    "# in different category triplet\n",
    "s = df_ProdIDCat.groupby(['Product_ID', 'Product_Cat123']).count()\n",
    "\n",
    "# group by Prod ID then count the different Prod cat triplet for each Prod ID\n",
    "s = df_ProdIDCat.groupby(['Product_ID']).Product_Cat123.value_counts()\n",
    "# compare size of first level index (size of Prod ID returns the number of unique ProdID)\n",
    "# to second level index (Prod Cat triplet, get all values as list and use length so that it doesn't only count unique values)\n",
    "print(s.index.levels[0].size)\n",
    "print(len(s.index.get_level_values(1)))\n",
    "# NOTE: get_level_values()  returns a Int64Index object, len() and .shape work on it. List uses len(), numpy array uses .shape\n",
    "\n",
    "# # EXTRA: filter df_ProdIDCat by product (too slow!)\n",
    "# for ind, ID in df.Product_ID.value_counts().iteritems():\n",
    "#     if df_ProdIDCat[df_ProdIDCat.Product_ID == ID].Product_Cat123.value_counts().size > 1:\n",
    "#         print(ind,ID)"
   ]
  },
  {
   "cell_type": "markdown",
   "metadata": {},
   "source": [
    "Conclusion is each product ID belongs to a unique Prod Cat123"
   ]
  },
  {
   "cell_type": "markdown",
   "metadata": {},
   "source": [
    "## Combination of Age and Marital Status and City Category"
   ]
  },
  {
   "cell_type": "code",
   "execution_count": 35,
   "metadata": {
    "collapsed": true
   },
   "outputs": [],
   "source": [
    "temp_Age_Marital_City = df.apply(lambda x:\\\n",
    "            '-'.join([str(x['Age']),\\\n",
    "                      str(x['Marital_Status']), \\\n",
    "                      str(x['City_Category']), \\\n",
    "                     ]), axis=1 )"
   ]
  },
  {
   "cell_type": "code",
   "execution_count": 36,
   "metadata": {},
   "outputs": [
    {
     "data": {
      "text/plain": [
       "26-35-0-B    56191\n",
       "26-35-0-A    46374\n",
       "26-35-1-B    35393\n",
       "18-25-0-B    33663\n",
       "26-35-0-C    30731\n",
       "36-45-0-B    30130\n",
       "26-35-1-A    27371\n",
       "26-35-1-C    23527\n",
       "18-25-0-C    23088\n",
       "18-25-0-A    21793\n",
       "36-45-0-C    21524\n",
       "36-45-1-B    17468\n",
       "46-50-1-B    15553\n",
       "36-45-0-A    14723\n",
       "36-45-1-C    14274\n",
       "51-55-1-B    12969\n",
       "46-50-1-C    12287\n",
       "36-45-1-A    11894\n",
       "51-55-1-C    10372\n",
       "18-25-1-B     9584\n",
       "55+-1-C       8088\n",
       "0-17-0-C      7123\n",
       "18-25-1-C     5790\n",
       "18-25-1-A     5742\n",
       "0-17-0-B      5435\n",
       "46-50-0-C     5401\n",
       "46-50-1-A     5171\n",
       "46-50-0-B     4853\n",
       "51-55-0-B     4772\n",
       "55+-0-C       4681\n",
       "51-55-1-A     4321\n",
       "51-55-0-C     4289\n",
       "55+-1-B       3485\n",
       "0-17-0-A      2544\n",
       "46-50-0-A     2436\n",
       "55+-1-A       2048\n",
       "51-55-0-A     1778\n",
       "55+-0-B       1677\n",
       "55+-0-A       1525\n",
       "dtype: int64"
      ]
     },
     "execution_count": 36,
     "metadata": {},
     "output_type": "execute_result"
    }
   ],
   "source": [
    "temp_Age_Marital_City.value_counts()"
   ]
  },
  {
   "cell_type": "code",
   "execution_count": 37,
   "metadata": {
    "collapsed": true
   },
   "outputs": [],
   "source": [
    "# use scikit-learn encoder\n",
    "from sklearn.preprocessing import LabelBinarizer\n",
    "Age_Marital_City_encoder = LabelBinarizer(sparse_output=True)\n",
    "Age_Marital_City_coded = Age_Marital_City_encoder.fit_transform(temp_Age_Marital_City.values)"
   ]
  },
  {
   "cell_type": "markdown",
   "metadata": {},
   "source": [
    "# Linear Regression\n"
   ]
  },
  {
   "cell_type": "code",
   "execution_count": 38,
   "metadata": {},
   "outputs": [
    {
     "data": {
      "text/html": [
       "<div>\n",
       "<style>\n",
       "    .dataframe thead tr:only-child th {\n",
       "        text-align: right;\n",
       "    }\n",
       "\n",
       "    .dataframe thead th {\n",
       "        text-align: left;\n",
       "    }\n",
       "\n",
       "    .dataframe tbody tr th {\n",
       "        vertical-align: top;\n",
       "    }\n",
       "</style>\n",
       "<table border=\"1\" class=\"dataframe\">\n",
       "  <thead>\n",
       "    <tr style=\"text-align: right;\">\n",
       "      <th></th>\n",
       "      <th>User_ID</th>\n",
       "      <th>Product_ID</th>\n",
       "      <th>Gender</th>\n",
       "      <th>Age</th>\n",
       "      <th>Occupation</th>\n",
       "      <th>City_Category</th>\n",
       "      <th>Stay_In_Current_City_Years</th>\n",
       "      <th>Marital_Status</th>\n",
       "      <th>Product_Category_1</th>\n",
       "      <th>Product_Category_2</th>\n",
       "      <th>Product_Category_3</th>\n",
       "      <th>Purchase</th>\n",
       "    </tr>\n",
       "  </thead>\n",
       "  <tbody>\n",
       "    <tr>\n",
       "      <th>0</th>\n",
       "      <td>1000001</td>\n",
       "      <td>P00069042</td>\n",
       "      <td>F</td>\n",
       "      <td>0-17</td>\n",
       "      <td>10</td>\n",
       "      <td>A</td>\n",
       "      <td>2</td>\n",
       "      <td>0</td>\n",
       "      <td>3</td>\n",
       "      <td>NaN</td>\n",
       "      <td>NaN</td>\n",
       "      <td>8370</td>\n",
       "    </tr>\n",
       "    <tr>\n",
       "      <th>1</th>\n",
       "      <td>1000001</td>\n",
       "      <td>P00248942</td>\n",
       "      <td>F</td>\n",
       "      <td>0-17</td>\n",
       "      <td>10</td>\n",
       "      <td>A</td>\n",
       "      <td>2</td>\n",
       "      <td>0</td>\n",
       "      <td>1</td>\n",
       "      <td>6.0</td>\n",
       "      <td>14.0</td>\n",
       "      <td>15200</td>\n",
       "    </tr>\n",
       "  </tbody>\n",
       "</table>\n",
       "</div>"
      ],
      "text/plain": [
       "   User_ID Product_ID Gender   Age  Occupation City_Category  \\\n",
       "0  1000001  P00069042      F  0-17          10             A   \n",
       "1  1000001  P00248942      F  0-17          10             A   \n",
       "\n",
       "  Stay_In_Current_City_Years  Marital_Status  Product_Category_1  \\\n",
       "0                          2               0                   3   \n",
       "1                          2               0                   1   \n",
       "\n",
       "   Product_Category_2  Product_Category_3  Purchase  \n",
       "0                 NaN                 NaN      8370  \n",
       "1                 6.0                14.0     15200  "
      ]
     },
     "execution_count": 38,
     "metadata": {},
     "output_type": "execute_result"
    }
   ],
   "source": [
    "df.head(2)"
   ]
  },
  {
   "cell_type": "code",
   "execution_count": 39,
   "metadata": {},
   "outputs": [
    {
     "data": {
      "text/plain": [
       "(9263.9687129591257, 134.76736290713913, (9759,), (550068, 9759))"
      ]
     },
     "execution_count": 39,
     "metadata": {},
     "output_type": "execute_result"
    }
   ],
   "source": [
    "import numpy as np\n",
    "from scipy.sparse import hstack\n",
    "from scipy.sparse import csr_matrix\n",
    "from sklearn.linear_model import LinearRegression\n",
    "model = LinearRegression(n_jobs=-1, normalize=False, fit_intercept=True)\n",
    "# n_jobs doesn't speed up because I only have one target (Purchase)\n",
    "#TODO, add sample_weight to fit() higher weights for underrepresented prod cat\n",
    "\n",
    "# intercept = csr_matrix( np.ones((Gender_coded.shape[0],1))*1 )\n",
    "# X = Prod_coded.toarray()\n",
    "# X = np.concatenate(( np.ones((Gender_coded.shape[0],1)) , Prod_coded.toarray() ), axis=1)\n",
    "# X = hstack( (Gender_coded,\\\n",
    "#              Age_coded,\\\n",
    "#              Occ_coded,\\\n",
    "#              City_coded,\\\n",
    "#              Years_Current_City_csr,\\\n",
    "#              Mar_status,\\\n",
    "#              ProdID_coded,\\\n",
    "#              User_coded,\\\n",
    "#              Prod_coded ))\n",
    "# X = hstack( ( Gender_coded,\\\n",
    "#              Age_Marital_City_coded,\\\n",
    "#              Years_Current_City_csr,\\\n",
    "#              Occ_coded,\\\n",
    "#              User_coded,\\\n",
    "#              ProdID_coded,\\\n",
    "#              Prod_coded ))\n",
    "X = hstack( ( User_coded,\\\n",
    "             ProdID_coded,\\\n",
    "             Prod_coded ))\n",
    "Years_Current_City_poly\n",
    "y = df.Purchase.values\n",
    "model.fit(X, y)\n",
    "model.intercept_, model.coef_[0], model.coef_.shape, X.shape"
   ]
  },
  {
   "cell_type": "code",
   "execution_count": 40,
   "metadata": {},
   "outputs": [
    {
     "name": "stdout",
     "output_type": "stream",
     "text": [
      "Chi-Square = 0.7608\n",
      "MSE = 6034115.0512\n",
      "RMSE = 2456.4436\n"
     ]
    }
   ],
   "source": [
    "from sklearn.metrics import r2_score\n",
    "y_pred = model.predict(X)\n",
    "print('Chi-Square = {:.4f}'.format(r2_score(y, y_pred)))\n",
    "\n",
    "from sklearn.metrics import mean_squared_error\n",
    "print('MSE = {:.4f}'.format(mean_squared_error(y, y_pred)))\n",
    "print('RMSE = {:.4f}'.format(np.sqrt(mean_squared_error(y, y_pred))))"
   ]
  },
  {
   "cell_type": "code",
   "execution_count": 41,
   "metadata": {},
   "outputs": [
    {
     "data": {
      "text/plain": [
       "550068"
      ]
     },
     "execution_count": 41,
     "metadata": {},
     "output_type": "execute_result"
    }
   ],
   "source": [
    "X.shape\n",
    "y.shape\n",
    "X.shape[0]\n",
    "# intercept.shape\n",
    "# Prod_coded.shape"
   ]
  },
  {
   "cell_type": "markdown",
   "metadata": {},
   "source": [
    "# Am I overfitting?\n",
    "\n",
    "No, I'm underfitting!"
   ]
  },
  {
   "cell_type": "code",
   "execution_count": 42,
   "metadata": {},
   "outputs": [
    {
     "name": "stdout",
     "output_type": "stream",
     "text": [
      "The exact solution is  x = 0                              \n"
     ]
    },
    {
     "data": {
      "image/png": "[encoded data removed]",
      "text/plain": [
       "<matplotlib.figure.Figure at 0x28d8e052860>"
      ]
     },
     "metadata": {},
     "output_type": "display_data"
    }
   ],
   "source": [
    "from sklearn.model_selection import train_test_split\n",
    "\n",
    "def plot_learning_curve(model,X,y):\n",
    "    # split data/target in train and test sets\n",
    "    X_train, X_val, y_train, y_val = train_test_split(X, y, test_size=0.3, random_state=42)\n",
    "    train_errors, val_errors = [], []\n",
    "    train_sizes = np.linspace(1, X_train.shape[0], 100, dtype='int64')\n",
    "    for m in train_sizes:\n",
    "        # train with m samples\n",
    "        model.fit(X_train[:m], y_train[:m])\n",
    "        # predict training data and val data\n",
    "        y_train_pred = model.predict(X_train[:m])\n",
    "        y_val_pred = model.predict(X_val)\n",
    "        # save MSE metric\n",
    "        train_errors.append(mean_squared_error(y_train[:m], y_train_pred))\n",
    "        val_errors.append(mean_squared_error(y_val, y_val_pred))\n",
    "    plt.plot(train_sizes, train_errors, 'r-+', linewidth=2, label='train')\n",
    "    plt.plot(train_sizes, val_errors, 'b-', linewidth=2, label='validation')\n",
    "\n",
    "plot_learning_curve(model,X,y)"
   ]
  },
  {
   "cell_type": "markdown",
   "metadata": {},
   "source": [
    "# Linear Regression (SGD version)\n",
    "SGD: Stochastic Gradient Descent"
   ]
  },
  {
   "cell_type": "code",
   "execution_count": 43,
   "metadata": {},
   "outputs": [
    {
     "data": {
      "text/plain": [
       "SGDRegressor(alpha=0.0001, average=False, epsilon=0.1, eta0=0.1,\n",
       "       fit_intercept=True, l1_ratio=0.15, learning_rate='invscaling',\n",
       "       loss='squared_loss', max_iter=50, n_iter=None, penalty=None,\n",
       "       power_t=0.25, random_state=None, shuffle=True, tol=0.001, verbose=0,\n",
       "       warm_start=False)"
      ]
     },
     "execution_count": 43,
     "metadata": {},
     "output_type": "execute_result"
    }
   ],
   "source": [
    "from sklearn.linear_model import SGDRegressor\n",
    "model_SGD = SGDRegressor(max_iter=50, penalty=None, eta0=0.1, tol=1e-3, shuffle=True)\n",
    "model_SGD.fit(X, y)"
   ]
  },
  {
   "cell_type": "code",
   "execution_count": 44,
   "metadata": {},
   "outputs": [
    {
     "name": "stdout",
     "output_type": "stream",
     "text": [
      "MSE = 6053937.7087\n",
      "RMSE = 2460.4751\n"
     ]
    }
   ],
   "source": [
    "y_predSGD = model_SGD.predict(X)\n",
    "from sklearn.metrics import mean_squared_error\n",
    "print('MSE = {:.4f}'.format(mean_squared_error(y, y_predSGD)))\n",
    "print('RMSE = {:.4f}'.format(np.sqrt(mean_squared_error(y, y_predSGD))))"
   ]
  },
  {
   "cell_type": "code",
   "execution_count": 45,
   "metadata": {},
   "outputs": [
    {
     "data": {
      "text/plain": [
       "34"
      ]
     },
     "execution_count": 45,
     "metadata": {},
     "output_type": "execute_result"
    }
   ],
   "source": [
    "model_SGD.n_iter_"
   ]
  },
  {
   "cell_type": "markdown",
   "metadata": {},
   "source": [
    "# Test results Linear Regression\n",
    "Run algo on test data to submit answer"
   ]
  },
  {
   "cell_type": "code",
   "execution_count": 46,
   "metadata": {
    "collapsed": true
   },
   "outputs": [],
   "source": [
    "filename = './test_HujdGe7/test.csv'\n",
    "df_test = pd.read_csv(filename)\n",
    "\n",
    "from scipy.sparse import csr_matrix\n",
    "Years_Current_City_t = df_test.loc[:,'Stay_In_Current_City_Years'].apply(lambda x: 4 if x == '4+' else int(x)).values\n",
    "Years_Current_City_t = csr_matrix(Years_Current_City_t.reshape(-1,1))\n",
    "User_coded_t = User_encoder.transform(df_test.User_ID.values)\n",
    "ProdID_coded_t = ProdID_encoder.transform(df_test.Product_ID.values)\n",
    "# combine Prod_1, Prod_2 and Prod_3\n",
    "temp_t = df_test.apply(lambda x:\\\n",
    "            '-'.join([str(x['Product_Category_1']),\\\n",
    "                      str(x['Product_Category_2']), \\\n",
    "                      str(x['Product_Category_3']), \\\n",
    "                     ]), axis=1 )\n",
    "Prod_coded_t = Prod_encoder.transform(temp_t.values)\n",
    "# combine age, marital status and city\n",
    "temp_Age_Marital_City_t = df_test.apply(lambda x:\\\n",
    "            '-'.join([str(x['Age']),\\\n",
    "                      str(x['Marital_Status']), \\\n",
    "                      str(x['City_Category']), \\\n",
    "                     ]), axis=1 )\n",
    "Age_Marital_City_coded_t = Age_Marital_City_encoder.transform(temp_Age_Marital_City_t.values)\n",
    "Occ_coded_t = Occ_encoder.transform(df_test.Occupation.values.reshape(-1,1))\n",
    "Gender_coded_t = Gender_encoder.transform(df_test.Gender.values)\n",
    "Gender_coded_t = csr_matrix(Gender_coded_t.reshape(-1,1))\n",
    "Intercept_t = csr_matrix(np.ones( (Gender_coded_t.shape[0],1) ) )\n",
    "\n",
    "# X_test = hstack( ( Years_Current_City_t,\\\n",
    "#              Gender_coded_t,\\\n",
    "#              Age_Marital_City_coded_t,\\\n",
    "#              Occ_coded_t,\\\n",
    "#              User_coded_t,\\\n",
    "#              ProdID_coded_t,\\\n",
    "#              Prod_coded_t ) )\n",
    "X_test = hstack( (User_coded_t,\\\n",
    "             ProdID_coded_t,\\\n",
    "             Prod_coded_t ) )\n",
    "\n",
    "y_pred_test = model.predict(X_test)"
   ]
  },
  {
   "cell_type": "code",
   "execution_count": 47,
   "metadata": {
    "collapsed": true
   },
   "outputs": [],
   "source": [
    "df_results = df_test.loc[:,('User_ID','Product_ID')]\n",
    "df_results['Purchase'] = y_pred_test.reshape(-1,1)\n",
    "df_results.to_csv('Submission.csv', index=False)"
   ]
  },
  {
   "cell_type": "markdown",
   "metadata": {},
   "source": [
    "# Correlation\n",
    "Let's see what correlation between features tells us."
   ]
  },
  {
   "cell_type": "code",
   "execution_count": 48,
   "metadata": {},
   "outputs": [
    {
     "data": {
      "text/html": [
       "<div>\n",
       "<style>\n",
       "    .dataframe thead tr:only-child th {\n",
       "        text-align: right;\n",
       "    }\n",
       "\n",
       "    .dataframe thead th {\n",
       "        text-align: left;\n",
       "    }\n",
       "\n",
       "    .dataframe tbody tr th {\n",
       "        vertical-align: top;\n",
       "    }\n",
       "</style>\n",
       "<table border=\"1\" class=\"dataframe\">\n",
       "  <thead>\n",
       "    <tr style=\"text-align: right;\">\n",
       "      <th></th>\n",
       "      <th>User_ID</th>\n",
       "      <th>Product_ID</th>\n",
       "      <th>Gender</th>\n",
       "      <th>Age</th>\n",
       "      <th>Occupation</th>\n",
       "      <th>City_Category</th>\n",
       "      <th>Stay_In_Current_City_Years</th>\n",
       "      <th>Marital_Status</th>\n",
       "      <th>Product_Category_1</th>\n",
       "      <th>Product_Category_2</th>\n",
       "      <th>Product_Category_3</th>\n",
       "      <th>Purchase</th>\n",
       "    </tr>\n",
       "  </thead>\n",
       "  <tbody>\n",
       "    <tr>\n",
       "      <th>User_ID</th>\n",
       "      <td>1.000000</td>\n",
       "      <td>-0.017862</td>\n",
       "      <td>-0.033464</td>\n",
       "      <td>0.032703</td>\n",
       "      <td>-0.023972</td>\n",
       "      <td>0.022880</td>\n",
       "      <td>-0.030789</td>\n",
       "      <td>0.020478</td>\n",
       "      <td>0.003812</td>\n",
       "      <td>0.001508</td>\n",
       "      <td>0.003399</td>\n",
       "      <td>0.004730</td>\n",
       "    </tr>\n",
       "    <tr>\n",
       "      <th>Product_ID</th>\n",
       "      <td>-0.017862</td>\n",
       "      <td>1.000000</td>\n",
       "      <td>0.015916</td>\n",
       "      <td>0.023476</td>\n",
       "      <td>0.007424</td>\n",
       "      <td>0.007032</td>\n",
       "      <td>-0.002398</td>\n",
       "      <td>0.011621</td>\n",
       "      <td>0.074717</td>\n",
       "      <td>0.013972</td>\n",
       "      <td>0.026679</td>\n",
       "      <td>-0.109345</td>\n",
       "    </tr>\n",
       "    <tr>\n",
       "      <th>Gender</th>\n",
       "      <td>-0.033464</td>\n",
       "      <td>0.015916</td>\n",
       "      <td>1.000000</td>\n",
       "      <td>-0.004262</td>\n",
       "      <td>0.117291</td>\n",
       "      <td>-0.004515</td>\n",
       "      <td>0.014660</td>\n",
       "      <td>-0.011603</td>\n",
       "      <td>-0.045594</td>\n",
       "      <td>-0.018591</td>\n",
       "      <td>0.028069</td>\n",
       "      <td>0.060346</td>\n",
       "    </tr>\n",
       "    <tr>\n",
       "      <th>Age</th>\n",
       "      <td>0.032703</td>\n",
       "      <td>0.023476</td>\n",
       "      <td>-0.004262</td>\n",
       "      <td>1.000000</td>\n",
       "      <td>0.091463</td>\n",
       "      <td>0.123079</td>\n",
       "      <td>-0.004712</td>\n",
       "      <td>0.311738</td>\n",
       "      <td>0.061197</td>\n",
       "      <td>0.054877</td>\n",
       "      <td>0.057346</td>\n",
       "      <td>0.015839</td>\n",
       "    </tr>\n",
       "    <tr>\n",
       "      <th>Occupation</th>\n",
       "      <td>-0.023972</td>\n",
       "      <td>0.007424</td>\n",
       "      <td>0.117291</td>\n",
       "      <td>0.091463</td>\n",
       "      <td>1.000000</td>\n",
       "      <td>0.034479</td>\n",
       "      <td>0.030005</td>\n",
       "      <td>0.024280</td>\n",
       "      <td>-0.007618</td>\n",
       "      <td>-0.000384</td>\n",
       "      <td>0.013263</td>\n",
       "      <td>0.020833</td>\n",
       "    </tr>\n",
       "    <tr>\n",
       "      <th>City_Category</th>\n",
       "      <td>0.022880</td>\n",
       "      <td>0.007032</td>\n",
       "      <td>-0.004515</td>\n",
       "      <td>0.123079</td>\n",
       "      <td>0.034479</td>\n",
       "      <td>1.000000</td>\n",
       "      <td>0.019946</td>\n",
       "      <td>0.039790</td>\n",
       "      <td>-0.014364</td>\n",
       "      <td>-0.011822</td>\n",
       "      <td>-0.002347</td>\n",
       "      <td>0.061914</td>\n",
       "    </tr>\n",
       "    <tr>\n",
       "      <th>Stay_In_Current_City_Years</th>\n",
       "      <td>-0.030789</td>\n",
       "      <td>-0.002398</td>\n",
       "      <td>0.014660</td>\n",
       "      <td>-0.004712</td>\n",
       "      <td>0.030005</td>\n",
       "      <td>0.019946</td>\n",
       "      <td>1.000000</td>\n",
       "      <td>-0.012819</td>\n",
       "      <td>-0.004213</td>\n",
       "      <td>-0.001657</td>\n",
       "      <td>0.002093</td>\n",
       "      <td>0.005422</td>\n",
       "    </tr>\n",
       "    <tr>\n",
       "      <th>Marital_Status</th>\n",
       "      <td>0.020478</td>\n",
       "      <td>0.011621</td>\n",
       "      <td>-0.011603</td>\n",
       "      <td>0.311738</td>\n",
       "      <td>0.024280</td>\n",
       "      <td>0.039790</td>\n",
       "      <td>-0.012819</td>\n",
       "      <td>1.000000</td>\n",
       "      <td>0.019888</td>\n",
       "      <td>0.015138</td>\n",
       "      <td>0.019473</td>\n",
       "      <td>-0.000463</td>\n",
       "    </tr>\n",
       "    <tr>\n",
       "      <th>Product_Category_1</th>\n",
       "      <td>0.003812</td>\n",
       "      <td>0.074717</td>\n",
       "      <td>-0.045594</td>\n",
       "      <td>0.061197</td>\n",
       "      <td>-0.007618</td>\n",
       "      <td>-0.014364</td>\n",
       "      <td>-0.004213</td>\n",
       "      <td>0.019888</td>\n",
       "      <td>1.000000</td>\n",
       "      <td>0.540583</td>\n",
       "      <td>0.229678</td>\n",
       "      <td>-0.343703</td>\n",
       "    </tr>\n",
       "    <tr>\n",
       "      <th>Product_Category_2</th>\n",
       "      <td>0.001508</td>\n",
       "      <td>0.013972</td>\n",
       "      <td>-0.018591</td>\n",
       "      <td>0.054877</td>\n",
       "      <td>-0.000384</td>\n",
       "      <td>-0.011822</td>\n",
       "      <td>-0.001657</td>\n",
       "      <td>0.015138</td>\n",
       "      <td>0.540583</td>\n",
       "      <td>1.000000</td>\n",
       "      <td>0.543649</td>\n",
       "      <td>-0.209918</td>\n",
       "    </tr>\n",
       "    <tr>\n",
       "      <th>Product_Category_3</th>\n",
       "      <td>0.003399</td>\n",
       "      <td>0.026679</td>\n",
       "      <td>0.028069</td>\n",
       "      <td>0.057346</td>\n",
       "      <td>0.013263</td>\n",
       "      <td>-0.002347</td>\n",
       "      <td>0.002093</td>\n",
       "      <td>0.019473</td>\n",
       "      <td>0.229678</td>\n",
       "      <td>0.543649</td>\n",
       "      <td>1.000000</td>\n",
       "      <td>-0.022006</td>\n",
       "    </tr>\n",
       "    <tr>\n",
       "      <th>Purchase</th>\n",
       "      <td>0.004730</td>\n",
       "      <td>-0.109345</td>\n",
       "      <td>0.060346</td>\n",
       "      <td>0.015839</td>\n",
       "      <td>0.020833</td>\n",
       "      <td>0.061914</td>\n",
       "      <td>0.005422</td>\n",
       "      <td>-0.000463</td>\n",
       "      <td>-0.343703</td>\n",
       "      <td>-0.209918</td>\n",
       "      <td>-0.022006</td>\n",
       "      <td>1.000000</td>\n",
       "    </tr>\n",
       "  </tbody>\n",
       "</table>\n",
       "</div>"
      ],
      "text/plain": [
       "                             User_ID  Product_ID    Gender       Age  \\\n",
       "User_ID                     1.000000   -0.017862 -0.033464  0.032703   \n",
       "Product_ID                 -0.017862    1.000000  0.015916  0.023476   \n",
       "Gender                     -0.033464    0.015916  1.000000 -0.004262   \n",
       "Age                         0.032703    0.023476 -0.004262  1.000000   \n",
       "Occupation                 -0.023972    0.007424  0.117291  0.091463   \n",
       "City_Category               0.022880    0.007032 -0.004515  0.123079   \n",
       "Stay_In_Current_City_Years -0.030789   -0.002398  0.014660 -0.004712   \n",
       "Marital_Status              0.020478    0.011621 -0.011603  0.311738   \n",
       "Product_Category_1          0.003812    0.074717 -0.045594  0.061197   \n",
       "Product_Category_2          0.001508    0.013972 -0.018591  0.054877   \n",
       "Product_Category_3          0.003399    0.026679  0.028069  0.057346   \n",
       "Purchase                    0.004730   -0.109345  0.060346  0.015839   \n",
       "\n",
       "                            Occupation  City_Category  \\\n",
       "User_ID                      -0.023972       0.022880   \n",
       "Product_ID                    0.007424       0.007032   \n",
       "Gender                        0.117291      -0.004515   \n",
       "Age                           0.091463       0.123079   \n",
       "Occupation                    1.000000       0.034479   \n",
       "City_Category                 0.034479       1.000000   \n",
       "Stay_In_Current_City_Years    0.030005       0.019946   \n",
       "Marital_Status                0.024280       0.039790   \n",
       "Product_Category_1           -0.007618      -0.014364   \n",
       "Product_Category_2           -0.000384      -0.011822   \n",
       "Product_Category_3            0.013263      -0.002347   \n",
       "Purchase                      0.020833       0.061914   \n",
       "\n",
       "                            Stay_In_Current_City_Years  Marital_Status  \\\n",
       "User_ID                                      -0.030789        0.020478   \n",
       "Product_ID                                   -0.002398        0.011621   \n",
       "Gender                                        0.014660       -0.011603   \n",
       "Age                                          -0.004712        0.311738   \n",
       "Occupation                                    0.030005        0.024280   \n",
       "City_Category                                 0.019946        0.039790   \n",
       "Stay_In_Current_City_Years                    1.000000       -0.012819   \n",
       "Marital_Status                               -0.012819        1.000000   \n",
       "Product_Category_1                           -0.004213        0.019888   \n",
       "Product_Category_2                           -0.001657        0.015138   \n",
       "Product_Category_3                            0.002093        0.019473   \n",
       "Purchase                                      0.005422       -0.000463   \n",
       "\n",
       "                            Product_Category_1  Product_Category_2  \\\n",
       "User_ID                               0.003812            0.001508   \n",
       "Product_ID                            0.074717            0.013972   \n",
       "Gender                               -0.045594           -0.018591   \n",
       "Age                                   0.061197            0.054877   \n",
       "Occupation                           -0.007618           -0.000384   \n",
       "City_Category                        -0.014364           -0.011822   \n",
       "Stay_In_Current_City_Years           -0.004213           -0.001657   \n",
       "Marital_Status                        0.019888            0.015138   \n",
       "Product_Category_1                    1.000000            0.540583   \n",
       "Product_Category_2                    0.540583            1.000000   \n",
       "Product_Category_3                    0.229678            0.543649   \n",
       "Purchase                             -0.343703           -0.209918   \n",
       "\n",
       "                            Product_Category_3  Purchase  \n",
       "User_ID                               0.003399  0.004730  \n",
       "Product_ID                            0.026679 -0.109345  \n",
       "Gender                                0.028069  0.060346  \n",
       "Age                                   0.057346  0.015839  \n",
       "Occupation                            0.013263  0.020833  \n",
       "City_Category                        -0.002347  0.061914  \n",
       "Stay_In_Current_City_Years            0.002093  0.005422  \n",
       "Marital_Status                        0.019473 -0.000463  \n",
       "Product_Category_1                    0.229678 -0.343703  \n",
       "Product_Category_2                    0.543649 -0.209918  \n",
       "Product_Category_3                    1.000000 -0.022006  \n",
       "Purchase                             -0.022006  1.000000  "
      ]
     },
     "execution_count": 48,
     "metadata": {},
     "output_type": "execute_result"
    }
   ],
   "source": [
    "# start with a dataframe copy\n",
    "df_cpy = df.copy()\n",
    "# one needs to encode categorical values first\n",
    "# use scikit-learn encoder\n",
    "from sklearn.preprocessing import LabelEncoder\n",
    "Gender = LabelEncoder()\n",
    "df_cpy.Gender = Gender.fit_transform(df.Gender.values)\n",
    "Age = LabelEncoder()\n",
    "df_cpy.Age = Age.fit_transform(df.Age.values)\n",
    "City = LabelEncoder()\n",
    "df_cpy.City_Category = City.fit_transform(df.City_Category.values)\n",
    "Years = LabelEncoder()\n",
    "df_cpy.Stay_In_Current_City_Years = Years.fit_transform(df.Stay_In_Current_City_Years.values)\n",
    "P_ID = LabelEncoder()\n",
    "df_cpy.Product_ID = P_ID.fit_transform(df.Product_ID.values)\n",
    "U_ID = LabelEncoder()\n",
    "df_cpy.User_ID = U_ID.fit_transform(df.User_ID.values)\n",
    "# show correlation\n",
    "df_cpy.corr()"
   ]
  },
  {
   "cell_type": "markdown",
   "metadata": {},
   "source": [
    "Product Category 1 does help the most.  Product ID is second.<br>\n",
    "If you want to use Cat 2 and Cat3 then combine them with Cat1 as they are somewhat correlated.<br>\n",
    "Other features are expected to help just a little.<br>\n",
    "\n",
    "Age and Marital status is 31% correlated. <br>\n",
    "Age and City category is 12% correlated. <br>\n",
    "Gender and Occupation is 11% correlated.<br>\n",
    "\n"
   ]
  },
  {
   "cell_type": "markdown",
   "metadata": {},
   "source": [
    "# Polynomial model\n",
    "\n",
    "To generate a non-linear model in order to improve our model accuracy, we can use scikit-learn PolynomialFeatures method.\n",
    "It needs a dense matrix. Our feature matrix is sparse otherwise we will run out of memory. Thus it is not possible (at least on my machine) to generate polynomial features on all features.\n",
    "It doesn't help to create polynomes on categorical features when we use one-hot encoding.<br><br>\n",
    "Only years in current city is numeric (i.e. not categorical) I tried adding polynomes of years in current city. No improvement on metrics, it even decreased performance when degree > 3."
   ]
  },
  {
   "cell_type": "code",
   "execution_count": 49,
   "metadata": {
    "collapsed": true
   },
   "outputs": [],
   "source": [
    "# from sklearn.preprocessing import PolynomialFeatures\n",
    "# # object to compute \n",
    "# poly = PolynomialFeatures(degree=3, interaction_only=False, include_bias=False)\n",
    "# # compute polynomial features\n",
    "# X_poly = poly.fit_transform(X)\n",
    "# model.fit(X_poly, y)\n",
    "# y_pred = model.predict(X_poly)\n",
    "# print('{:.4f}'.format(r2_score(y, y_pred)))"
   ]
  },
  {
   "cell_type": "markdown",
   "metadata": {},
   "source": [
    "# Ridge Regularization\n",
    "Learning curves shows there is no overfit. So there shouldn't be an improvement by adding regularization."
   ]
  },
  {
   "cell_type": "markdown",
   "metadata": {},
   "source": [
    "# Tree\n",
    "Use tree instead of linear Regression"
   ]
  },
  {
   "cell_type": "code",
   "execution_count": null,
   "metadata": {
    "collapsed": true
   },
   "outputs": [],
   "source": []
  }
 ],
 "metadata": {
  "kernelspec": {
   "display_name": "Python 3",
   "language": "python",
   "name": "python3"
  },
  "language_info": {
   "codemirror_mode": {
    "name": "ipython",
    "version": 3
   },
   "file_extension": ".py",
   "mimetype": "text/x-python",
   "name": "python",
   "nbconvert_exporter": "python",
   "pygments_lexer": "ipython3",
   "version": "3.5.4"
  }
 },
 "nbformat": 4,
 "nbformat_minor": 2
}
