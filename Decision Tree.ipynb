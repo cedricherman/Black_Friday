{
 "cells": [
  {
   "cell_type": "markdown",
   "metadata": {},
   "source": [
    "# Load features and targets"
   ]
  },
  {
   "cell_type": "code",
   "execution_count": 1,
   "metadata": {
    "collapsed": true
   },
   "outputs": [],
   "source": [
    "# load features\n",
    "import pickle\n",
    "features = pickle.load( open( \"Onehotfeatures.pkl\", \"rb\" ) )\n",
    "\n",
    "# load associated targets\n",
    "from numpy import load\n",
    "y = load('target.npy')"
   ]
  },
  {
   "cell_type": "markdown",
   "metadata": {},
   "source": [
    "Choose features and prepare data for scikit-learn prototyping"
   ]
  },
  {
   "cell_type": "code",
   "execution_count": 2,
   "metadata": {
    "collapsed": true
   },
   "outputs": [],
   "source": [
    "# keep features of interest\n",
    "imp_feature = ['User_ID', 'Product_ID', 'Gender_Prod_cat123']\n",
    "# imp_feature = ['User_ID', 'Product_ID', 'Gender', 'Prod_cat123']\n",
    "# only keep corresponding features\n",
    "X_features = tuple(f[0] for f in features if f[1] in imp_feature)"
   ]
  },
  {
   "cell_type": "code",
   "execution_count": 3,
   "metadata": {},
   "outputs": [
    {
     "data": {
      "text/plain": [
       "((550071, 9996), scipy.sparse.coo.coo_matrix)"
      ]
     },
     "execution_count": 3,
     "metadata": {},
     "output_type": "execute_result"
    }
   ],
   "source": [
    "from scipy.sparse import hstack\n",
    "X = hstack( X_features )\n",
    "X.shape, type(X)"
   ]
  },
  {
   "cell_type": "markdown",
   "metadata": {},
   "source": [
    "# Decision Tree\n",
    "Trying decision trees, very easy to overfit if you don't specify hyperparameters."
   ]
  },
  {
   "cell_type": "markdown",
   "metadata": {},
   "source": [
    "### Decision Tree - Grid search"
   ]
  },
  {
   "cell_type": "markdown",
   "metadata": {},
   "source": [
    "The following hyperparameters control our tree growth.<br>\n",
    "Possible order of tunning from most drastic constraint to least effective constraint:\n",
    "1. **`max_depth`**, maximum number of depth allowed\n",
    "2. **`min_samples_leaf`**, minimum number of samples required for a node to become a leaf, minimizes the number of splits in essence.\n",
    "3. **`min_samples_split`**, minimum number of samples a node must have to split a nodes (Tuned by cv)\n",
    "4. **`max_features`**, maximum number of features considered for a split (use sqrt or 30-40% of the total number of features)\n",
    "\n",
    "Notes: \n",
    " - `min_samples_leaf` and `min_weight_fraction_leaf` are redundants. Use one or the other,\n",
    " it has the same effect. Value depends on your data\n",
    " - `max_depth` and `max_leaf_nodes` are redundants. `max_leaf_nodes` is preponderant over `max_depth`, \n",
    "if `max_leaf_nodes` is not none then it will use it and ignore `max_depth`. Tuned by cv.\n",
    "\n",
    "[Sklearn Decision Tree Regressor](http://scikit-learn.org/stable/modules/generated/sklearn.tree.DecisionTreeRegressor.html) "
   ]
  },
  {
   "cell_type": "markdown",
   "metadata": {},
   "source": [
    "Define parameter grid"
   ]
  },
  {
   "cell_type": "code",
   "execution_count": 4,
   "metadata": {},
   "outputs": [
    {
     "data": {
      "text/plain": [
       "[{'max_depth': array([ 900,  925,  950,  975, 1000, 1025]),\n",
       "  'min_samples_leaf': [5]}]"
      ]
     },
     "execution_count": 4,
     "metadata": {},
     "output_type": "execute_result"
    }
   ],
   "source": [
    "# DEFINE PARAMETER VALUES\n",
    "import numpy as np\n",
    "# depth_arr = np.array([ 10**x for x in range(1,3+1)])\n",
    "# depth_arr = np.array([ x for x in range(100,1000+100, 100)])\n",
    "depth_arr = np.array([ x for x in range(900,1026, 25)])\n",
    "\n",
    "# min_leaf_arr = np.array([ x for x in range(0, 100+10, 10)])\n",
    "# min_leaf_arr[0]=1\n",
    "min_leaf_arr = np.array([ x for x in range(4, 6+1, 1)])\n",
    "# min_leaf_arr = min_leaf_arr[1:]\n",
    "\n",
    "# param_grid_tree = [{'max_depth': depth_arr, 'min_samples_leaf': min_leaf_arr }]\n",
    "param_grid_tree = [{'max_depth': depth_arr, 'min_samples_leaf': [5] }]\n",
    "param_grid_tree"
   ]
  },
  {
   "cell_type": "markdown",
   "metadata": {},
   "source": [
    "Run grid search"
   ]
  },
  {
   "cell_type": "code",
   "execution_count": 5,
   "metadata": {},
   "outputs": [
    {
     "name": "stdout",
     "output_type": "stream",
     "text": [
      "Fitting 5 folds for each of 6 candidates, totalling 30 fits\n"
     ]
    },
    {
     "name": "stderr",
     "output_type": "stream",
     "text": [
      "[Parallel(n_jobs=-1)]: Done  30 out of  30 | elapsed:  7.8min finished\n"
     ]
    },
    {
     "data": {
      "text/plain": [
       "DecisionTreeRegressor(criterion='mse', max_depth=925, max_features=None,\n",
       "           max_leaf_nodes=None, min_impurity_decrease=0.0,\n",
       "           min_impurity_split=None, min_samples_leaf=5,\n",
       "           min_samples_split=2, min_weight_fraction_leaf=0.0,\n",
       "           presort=False, random_state=29, splitter='best')"
      ]
     },
     "execution_count": 5,
     "metadata": {},
     "output_type": "execute_result"
    }
   ],
   "source": [
    "# instantiate decision tree model for regression\n",
    "from sklearn.tree import DecisionTreeRegressor\n",
    "tree_reg = DecisionTreeRegressor(random_state = 29)\n",
    "\n",
    "# Grid search on max_depth, min_samples_leaf\n",
    "from sklearn.model_selection import GridSearchCV, ShuffleSplit\n",
    "# n_splits is the number of times you split data after shuffling\n",
    "cv = ShuffleSplit(n_splits=5, test_size=1/5, random_state=4)\n",
    "\n",
    "# cv could be a fixed number of partitions but there would be no shuffling in that case\n",
    "# it will just rotate on partitions (k-1) parts and 1 part for cross-val\n",
    "tree_reg_grid = GridSearchCV(tree_reg, param_grid_tree, cv=cv, scoring='neg_mean_squared_error', n_jobs=-1, verbose = 1)\n",
    "\n",
    "# run grid search\n",
    "tree_reg_grid.fit(X,y)\n",
    "\n",
    "# Show winning parameters\n",
    "tree_reg_grid.best_estimator_\n",
    "# tree_reg_grid.best_params_\n",
    "# tree_reg_grid.cv_results_\n",
    "\n",
    "# {'min_samples_leaf': 5, 'max_depth': 900}\n",
    "# finer search on max depth yields 925"
   ]
  },
  {
   "cell_type": "markdown",
   "metadata": {},
   "source": [
    "Cross-validation best results"
   ]
  },
  {
   "cell_type": "code",
   "execution_count": 6,
   "metadata": {},
   "outputs": [
    {
     "name": "stdout",
     "output_type": "stream",
     "text": [
      "MSE, best param, mean cross-val = 7004739.5383\n",
      "RMSE, best param, mean cross-val = 2646.6468\n"
     ]
    }
   ],
   "source": [
    "# best score is the lowest MSE (averaged over Kfold cross-validation for each parameter value)\n",
    "print( 'MSE, best param, mean cross-val = {:.4f}'.format(-tree_reg_grid.best_score_) )\n",
    "print( 'RMSE, best param, mean cross-val = {:.4f}'.format(np.sqrt(-tree_reg_grid.best_score_)) )"
   ]
  },
  {
   "cell_type": "markdown",
   "metadata": {},
   "source": [
    "Performance on entire training set"
   ]
  },
  {
   "cell_type": "code",
   "execution_count": 7,
   "metadata": {},
   "outputs": [
    {
     "name": "stdout",
     "output_type": "stream",
     "text": [
      "MSE (whole training set) = 6670563.7151\n",
      "RMSE (whole training set) = 2582.7434\n"
     ]
    }
   ],
   "source": [
    "# get predictions from tree_reg_grid, grid search refit tree_reg_grid on entire training set using best params\n",
    "y_pred_grid = tree_reg_grid.predict(X)\n",
    "# plot metrics on training set and compare to cross-validation metrics\n",
    "from sklearn.metrics import mean_squared_error\n",
    "print('MSE (whole training set) = {:.4f}'.format(mean_squared_error(y, y_pred_grid)))\n",
    "print('RMSE (whole training set) = {:.4f}'.format(np.sqrt(mean_squared_error(y, y_pred_grid))))"
   ]
  },
  {
   "cell_type": "markdown",
   "metadata": {},
   "source": [
    "### Decision Tree - Single run"
   ]
  },
  {
   "cell_type": "markdown",
   "metadata": {},
   "source": [
    "Cross-validation"
   ]
  },
  {
   "cell_type": "code",
   "execution_count": 8,
   "metadata": {},
   "outputs": [
    {
     "name": "stdout",
     "output_type": "stream",
     "text": [
      "MSE (mean cross-validation) = 7004739.5383\n",
      "RMSE (mean cross-validation) = 2646.6468\n"
     ]
    }
   ],
   "source": [
    "# instantiate decision tree model for regression\n",
    "from sklearn.tree import DecisionTreeRegressor\n",
    "tree_reg = DecisionTreeRegressor( min_samples_leaf = 5, max_depth = 925, random_state=29)\n",
    "\n",
    "from sklearn.model_selection import cross_validate, ShuffleSplit\n",
    "# n_splits is the number of times you split data after shuffling\n",
    "cv = ShuffleSplit(n_splits=5, test_size=1/5, random_state=4)\n",
    "\n",
    "# cv could be a fixed number of partitions but there would be no shuffling in that case\n",
    "# it will just rotate on partitions (k-1) parts and 1 part for cross-val\n",
    "cv_results_tree = cross_validate(tree_reg, X, y = y, cv = cv, scoring = 'neg_mean_squared_error', n_jobs = -1)\n",
    "\n",
    "print('MSE (mean cross-validation) = {:.4f}'.format(-np.mean(cv_results_tree['test_score'])))\n",
    "print('RMSE (mean cross-validation) = {:.4f}'.format(np.sqrt(-np.mean(cv_results_tree['test_score']))))"
   ]
  },
  {
   "cell_type": "markdown",
   "metadata": {},
   "source": [
    "Run on entire training set"
   ]
  },
  {
   "cell_type": "code",
   "execution_count": 9,
   "metadata": {},
   "outputs": [
    {
     "name": "stdout",
     "output_type": "stream",
     "text": [
      "\n",
      "MSE (whole training set) = 6670563.7151\n",
      "RMSE (whole training set) = 2582.7434\n"
     ]
    }
   ],
   "source": [
    "# train one decision tree on entire dataset, cross_validate does it on k-1 splits\n",
    "tree_reg.fit(X,y)\n",
    "\n",
    "# metrics on entire dataset, must be higher that Xval scores\n",
    "y_pred = tree_reg.predict(X)\n",
    "from sklearn.metrics import mean_squared_error\n",
    "print('\\nMSE (whole training set) = {:.4f}'.format(mean_squared_error(y, y_pred)))\n",
    "print('RMSE (whole training set) = {:.4f}'.format(np.sqrt(mean_squared_error(y, y_pred))))"
   ]
  },
  {
   "cell_type": "markdown",
   "metadata": {},
   "source": [
    "# Run model on test set"
   ]
  },
  {
   "cell_type": "markdown",
   "metadata": {},
   "source": [
    "Read test set in memory and recover encoders from file and derive one-hot encoded features"
   ]
  },
  {
   "cell_type": "code",
   "execution_count": 10,
   "metadata": {
    "collapsed": true
   },
   "outputs": [],
   "source": [
    "from utils import fextract as ft\n",
    "import pandas as pd\n",
    "import pickle\n",
    "import importlib\n",
    "\n",
    "filename = './test_HujdGe7/test.csv'\n",
    "df_test = pd.read_csv(filename)\n",
    "\n",
    "# Load encoders\n",
    "encoders = pickle.load( open( \"Onehotencoders.pkl\", \"rb\" ) )\n",
    "catcoders = pickle.load( open( \"Category_encoders.pkl\", \"rb\" ) )\n",
    "\n",
    "# reload is necessary if one makes changes in fextract. Indeed modules are loaded once only, this forces a reload.\n",
    "importlib.reload(ft)\n",
    "\n",
    "# get one-hot encoded features and their names\n",
    "features_test = ft.prepare_Data(df_test, (catcoders, encoders))"
   ]
  },
  {
   "cell_type": "markdown",
   "metadata": {},
   "source": [
    "Select necessary features (must match your feature model obviously)"
   ]
  },
  {
   "cell_type": "code",
   "execution_count": 11,
   "metadata": {},
   "outputs": [
    {
     "data": {
      "text/plain": [
       "(233599, 9996)"
      ]
     },
     "execution_count": 11,
     "metadata": {},
     "output_type": "execute_result"
    }
   ],
   "source": [
    "X_features_test = tuple(f[0] for f in features_test if f[1] in imp_feature)\n",
    "X_test = hstack( X_features_test )\n",
    "# check shape\n",
    "X_test.shape"
   ]
  },
  {
   "cell_type": "markdown",
   "metadata": {},
   "source": [
    "Make predictions and save them to file"
   ]
  },
  {
   "cell_type": "code",
   "execution_count": 12,
   "metadata": {
    "collapsed": true
   },
   "outputs": [],
   "source": [
    "y_pred_test = tree_reg.predict(X_test)\n",
    "\n",
    "# format result save to csv for submission\n",
    "df_results = df_test.loc[:,('User_ID','Product_ID')]\n",
    "df_results['Purchase'] = y_pred_test.reshape(-1,1)\n",
    "df_results.to_csv('Submission_DecisionTree.csv', index=False)"
   ]
  }
 ],
 "metadata": {
  "kernelspec": {
   "display_name": "Python 3",
   "language": "python",
   "name": "python3"
  },
  "language_info": {
   "codemirror_mode": {
    "name": "ipython",
    "version": 3
   },
   "file_extension": ".py",
   "mimetype": "text/x-python",
   "name": "python",
   "nbconvert_exporter": "python",
   "pygments_lexer": "ipython3",
   "version": "3.5.4"
  }
 },
 "nbformat": 4,
 "nbformat_minor": 2
}
